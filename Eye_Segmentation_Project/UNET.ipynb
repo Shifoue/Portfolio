{
  "cells": [
    {
      "cell_type": "markdown",
      "metadata": {
        "id": "view-in-github"
      },
      "source": [
        "<a href=\"https://colab.research.google.com/github/Shifoue/Segmentation/blob/main/UNET.ipynb\" target=\"_parent\"><img src=\"https://colab.research.google.com/assets/colab-badge.svg\" alt=\"Open In Colab\"/></a>"
      ]
    },
    {
      "cell_type": "code",
      "execution_count": 1,
      "metadata": {
        "colab": {
          "base_uri": "https://localhost:8080/"
        },
        "id": "ujrwGtgr68UK",
        "outputId": "3bc7869c-7058-4fb4-e2d5-33f1a6199344"
      },
      "outputs": [
        {
          "output_type": "stream",
          "name": "stdout",
          "text": [
            "Cloning into 'Portfolio'...\n",
            "remote: Enumerating objects: 4206, done.\u001b[K\n",
            "remote: Counting objects: 100% (527/527), done.\u001b[K\n",
            "remote: Compressing objects: 100% (288/288), done.\u001b[K\n",
            "remote: Total 4206 (delta 242), reused 502 (delta 222), pack-reused 3679\u001b[K\n",
            "Receiving objects: 100% (4206/4206), 47.76 MiB | 19.04 MiB/s, done.\n",
            "Resolving deltas: 100% (808/808), done.\n",
            "Updating files: 100% (5052/5052), done.\n"
          ]
        }
      ],
      "source": [
        "!git clone https://github.com/Shifoue/Portfolio.git"
      ]
    },
    {
      "cell_type": "code",
      "execution_count": 2,
      "metadata": {
        "id": "wB7z4p2s7OEF"
      },
      "outputs": [],
      "source": [
        "!cd Portfolio/Eye_Segmentation_Project/"
      ]
    },
    {
      "cell_type": "code",
      "execution_count": 3,
      "metadata": {
        "colab": {
          "base_uri": "https://localhost:8080/"
        },
        "id": "kDb5taucKa2Z",
        "outputId": "7e14550a-2e53-406d-b59b-847a6a0a1487"
      },
      "outputs": [
        {
          "output_type": "stream",
          "name": "stdout",
          "text": [
            "Collecting utils\n",
            "  Downloading utils-1.0.2.tar.gz (13 kB)\n",
            "  Preparing metadata (setup.py) ... \u001b[?25l\u001b[?25hdone\n",
            "Building wheels for collected packages: utils\n",
            "  Building wheel for utils (setup.py) ... \u001b[?25l\u001b[?25hdone\n",
            "  Created wheel for utils: filename=utils-1.0.2-py2.py3-none-any.whl size=13906 sha256=24ce2a20cbcf0b6ba29904a41175f35734b43cc70c1a70109814a94de589abfe\n",
            "  Stored in directory: /root/.cache/pip/wheels/b8/39/f5/9d0ca31dba85773ececf0a7f5469f18810e1c8a8ed9da28ca7\n",
            "Successfully built utils\n",
            "Installing collected packages: utils\n",
            "Successfully installed utils-1.0.2\n",
            "Collecting torchmetrics\n",
            "  Downloading torchmetrics-1.4.0-py3-none-any.whl (868 kB)\n",
            "\u001b[2K     \u001b[90m━━━━━━━━━━━━━━━━━━━━━━━━━━━━━━━━━━━━━━━━\u001b[0m \u001b[32m868.8/868.8 kB\u001b[0m \u001b[31m10.6 MB/s\u001b[0m eta \u001b[36m0:00:00\u001b[0m\n",
            "\u001b[?25hRequirement already satisfied: numpy>1.20.0 in /usr/local/lib/python3.10/dist-packages (from torchmetrics) (1.25.2)\n",
            "Requirement already satisfied: packaging>17.1 in /usr/local/lib/python3.10/dist-packages (from torchmetrics) (24.0)\n",
            "Requirement already satisfied: torch>=1.10.0 in /usr/local/lib/python3.10/dist-packages (from torchmetrics) (2.2.1+cu121)\n",
            "Collecting lightning-utilities>=0.8.0 (from torchmetrics)\n",
            "  Downloading lightning_utilities-0.11.2-py3-none-any.whl (26 kB)\n",
            "Collecting pretty-errors==1.2.25 (from torchmetrics)\n",
            "  Downloading pretty_errors-1.2.25-py3-none-any.whl (17 kB)\n",
            "Collecting colorama (from pretty-errors==1.2.25->torchmetrics)\n",
            "  Downloading colorama-0.4.6-py2.py3-none-any.whl (25 kB)\n",
            "Requirement already satisfied: setuptools in /usr/local/lib/python3.10/dist-packages (from lightning-utilities>=0.8.0->torchmetrics) (67.7.2)\n",
            "Requirement already satisfied: typing-extensions in /usr/local/lib/python3.10/dist-packages (from lightning-utilities>=0.8.0->torchmetrics) (4.11.0)\n",
            "Requirement already satisfied: filelock in /usr/local/lib/python3.10/dist-packages (from torch>=1.10.0->torchmetrics) (3.14.0)\n",
            "Requirement already satisfied: sympy in /usr/local/lib/python3.10/dist-packages (from torch>=1.10.0->torchmetrics) (1.12)\n",
            "Requirement already satisfied: networkx in /usr/local/lib/python3.10/dist-packages (from torch>=1.10.0->torchmetrics) (3.3)\n",
            "Requirement already satisfied: jinja2 in /usr/local/lib/python3.10/dist-packages (from torch>=1.10.0->torchmetrics) (3.1.3)\n",
            "Requirement already satisfied: fsspec in /usr/local/lib/python3.10/dist-packages (from torch>=1.10.0->torchmetrics) (2023.6.0)\n",
            "Collecting nvidia-cuda-nvrtc-cu12==12.1.105 (from torch>=1.10.0->torchmetrics)\n",
            "  Using cached nvidia_cuda_nvrtc_cu12-12.1.105-py3-none-manylinux1_x86_64.whl (23.7 MB)\n",
            "Collecting nvidia-cuda-runtime-cu12==12.1.105 (from torch>=1.10.0->torchmetrics)\n",
            "  Using cached nvidia_cuda_runtime_cu12-12.1.105-py3-none-manylinux1_x86_64.whl (823 kB)\n",
            "Collecting nvidia-cuda-cupti-cu12==12.1.105 (from torch>=1.10.0->torchmetrics)\n",
            "  Using cached nvidia_cuda_cupti_cu12-12.1.105-py3-none-manylinux1_x86_64.whl (14.1 MB)\n",
            "Collecting nvidia-cudnn-cu12==8.9.2.26 (from torch>=1.10.0->torchmetrics)\n",
            "  Using cached nvidia_cudnn_cu12-8.9.2.26-py3-none-manylinux1_x86_64.whl (731.7 MB)\n",
            "Collecting nvidia-cublas-cu12==12.1.3.1 (from torch>=1.10.0->torchmetrics)\n",
            "  Using cached nvidia_cublas_cu12-12.1.3.1-py3-none-manylinux1_x86_64.whl (410.6 MB)\n",
            "Collecting nvidia-cufft-cu12==11.0.2.54 (from torch>=1.10.0->torchmetrics)\n",
            "  Using cached nvidia_cufft_cu12-11.0.2.54-py3-none-manylinux1_x86_64.whl (121.6 MB)\n",
            "Collecting nvidia-curand-cu12==10.3.2.106 (from torch>=1.10.0->torchmetrics)\n",
            "  Using cached nvidia_curand_cu12-10.3.2.106-py3-none-manylinux1_x86_64.whl (56.5 MB)\n",
            "Collecting nvidia-cusolver-cu12==11.4.5.107 (from torch>=1.10.0->torchmetrics)\n",
            "  Using cached nvidia_cusolver_cu12-11.4.5.107-py3-none-manylinux1_x86_64.whl (124.2 MB)\n",
            "Collecting nvidia-cusparse-cu12==12.1.0.106 (from torch>=1.10.0->torchmetrics)\n",
            "  Using cached nvidia_cusparse_cu12-12.1.0.106-py3-none-manylinux1_x86_64.whl (196.0 MB)\n",
            "Collecting nvidia-nccl-cu12==2.19.3 (from torch>=1.10.0->torchmetrics)\n",
            "  Using cached nvidia_nccl_cu12-2.19.3-py3-none-manylinux1_x86_64.whl (166.0 MB)\n",
            "Collecting nvidia-nvtx-cu12==12.1.105 (from torch>=1.10.0->torchmetrics)\n",
            "  Using cached nvidia_nvtx_cu12-12.1.105-py3-none-manylinux1_x86_64.whl (99 kB)\n",
            "Requirement already satisfied: triton==2.2.0 in /usr/local/lib/python3.10/dist-packages (from torch>=1.10.0->torchmetrics) (2.2.0)\n",
            "Collecting nvidia-nvjitlink-cu12 (from nvidia-cusolver-cu12==11.4.5.107->torch>=1.10.0->torchmetrics)\n",
            "  Using cached nvidia_nvjitlink_cu12-12.4.127-py3-none-manylinux2014_x86_64.whl (21.1 MB)\n",
            "Requirement already satisfied: MarkupSafe>=2.0 in /usr/local/lib/python3.10/dist-packages (from jinja2->torch>=1.10.0->torchmetrics) (2.1.5)\n",
            "Requirement already satisfied: mpmath>=0.19 in /usr/local/lib/python3.10/dist-packages (from sympy->torch>=1.10.0->torchmetrics) (1.3.0)\n",
            "Installing collected packages: nvidia-nvtx-cu12, nvidia-nvjitlink-cu12, nvidia-nccl-cu12, nvidia-curand-cu12, nvidia-cufft-cu12, nvidia-cuda-runtime-cu12, nvidia-cuda-nvrtc-cu12, nvidia-cuda-cupti-cu12, nvidia-cublas-cu12, lightning-utilities, colorama, pretty-errors, nvidia-cusparse-cu12, nvidia-cudnn-cu12, nvidia-cusolver-cu12, torchmetrics\n",
            "Successfully installed colorama-0.4.6 lightning-utilities-0.11.2 nvidia-cublas-cu12-12.1.3.1 nvidia-cuda-cupti-cu12-12.1.105 nvidia-cuda-nvrtc-cu12-12.1.105 nvidia-cuda-runtime-cu12-12.1.105 nvidia-cudnn-cu12-8.9.2.26 nvidia-cufft-cu12-11.0.2.54 nvidia-curand-cu12-10.3.2.106 nvidia-cusolver-cu12-11.4.5.107 nvidia-cusparse-cu12-12.1.0.106 nvidia-nccl-cu12-2.19.3 nvidia-nvjitlink-cu12-12.4.127 nvidia-nvtx-cu12-12.1.105 pretty-errors-1.2.25 torchmetrics-1.4.0\n"
          ]
        }
      ],
      "source": [
        "!pip install utils\n",
        "!pip install torchmetrics"
      ]
    },
    {
      "cell_type": "code",
      "execution_count": 4,
      "metadata": {
        "colab": {
          "base_uri": "https://localhost:8080/"
        },
        "id": "-z7JswNTJhfo",
        "outputId": "0a327a7a-e17a-4fc8-8316-312a07161b56"
      },
      "outputs": [
        {
          "output_type": "stream",
          "name": "stdout",
          "text": [
            "unzip:  cannot find or open Dataset_Faces_training.zip, Dataset_Faces_training.zip.zip or Dataset_Faces_training.zip.ZIP.\n",
            "unzip:  cannot find or open Dataset_Faces_validation.zip, Dataset_Faces_validation.zip.zip or Dataset_Faces_validation.zip.ZIP.\n",
            "unzip:  cannot find or open Dataset_Faces_Mask_training.zip, Dataset_Faces_Mask_training.zip.zip or Dataset_Faces_Mask_training.zip.ZIP.\n",
            "unzip:  cannot find or open Dataset_Faces_Mask_validation.zip, Dataset_Faces_Mask_validation.zip.zip or Dataset_Faces_Mask_validation.zip.ZIP.\n"
          ]
        }
      ],
      "source": [
        "!unzip Dataset_Faces_training.zip\n",
        "!unzip Dataset_Faces_validation.zip\n",
        "\n",
        "!unzip Dataset_Faces_Mask_training.zip\n",
        "!unzip Dataset_Faces_Mask_validation.zip"
      ]
    },
    {
      "cell_type": "code",
      "execution_count": 5,
      "metadata": {
        "id": "gR8x9-8GdVo1"
      },
      "outputs": [],
      "source": [
        "import torch\n",
        "import torch.nn as nn\n",
        "\n",
        "class DoubleConv(nn.Module):\n",
        "    def __init__(self, in_channels, out_channels):\n",
        "        super(DoubleConv, self).__init__()\n",
        "        self.depht = nn.Sequential(\n",
        "            nn.Conv2d(in_channels, out_channels, 3, 1, 1, bias=False),\n",
        "            nn.BatchNorm2d(out_channels),\n",
        "            nn.ReLU(inplace=True),\n",
        "            nn.Conv2d(out_channels, out_channels, 3, 1, 1, bias=False),\n",
        "            nn.BatchNorm2d(out_channels),\n",
        "            nn.ReLU(inplace=True),\n",
        "        )\n",
        "\n",
        "    def forward(self, X):\n",
        "        return self.depht(X)\n",
        "\n",
        "class myUNET(nn.Module):\n",
        "    def __init__(self, in_channels=3, out_channels=1, features=[64, 128, 256, 512]):\n",
        "      super(myUNET, self).__init__()\n",
        "      self.encode = nn.ModuleList()\n",
        "      self.decode = nn.ModuleList()\n",
        "      self.pool = nn.MaxPool2d(kernel_size=2, stride=2) #divide size per 2\n",
        "\n",
        "      # Encode\n",
        "      for feature in features:\n",
        "          self.encode.append(DoubleConv(in_channels, feature))\n",
        "          in_channels = feature\n",
        "\n",
        "      # Decode\n",
        "      for feature in reversed(features):\n",
        "          self.decode.append(nn.ConvTranspose2d(feature*2, feature, kernel_size=2, stride=2))\n",
        "          self.decode.append(DoubleConv(feature*2, feature))\n",
        "\n",
        "      self.bottleneck = DoubleConv(features[-1], features[-1]*2)\n",
        "      self.final_conv = nn.Conv2d(features[0], out_channels, kernel_size=1)\n",
        "\n",
        "    def forward(self, X):\n",
        "        skip_connections = []\n",
        "\n",
        "        for depht in self.encode:\n",
        "            X = depht(X)\n",
        "            skip_connections.append(X)\n",
        "            X = self.pool(X)\n",
        "\n",
        "        X = self.bottleneck(X)\n",
        "        skip_connections = skip_connections[::-1]\n",
        "\n",
        "        for i in range(0, len(self.decode), 2):\n",
        "            X = self.decode[i](X)\n",
        "            #skip_connection = skip_connections[-1 - i//2]\n",
        "            skip_connection = skip_connections[i//2]\n",
        "\n",
        "            if X.shape != skip_connection.shape:\n",
        "                X = torch.nn.functional.interpolate(X, size=skip_connection.shape[2:])\n",
        "\n",
        "            concat_skip = torch.cat((skip_connection, X), dim=1)\n",
        "            X = self.decode[i+1](concat_skip)\n",
        "\n",
        "        return self.final_conv(X)\n",
        "\n",
        "def test():\n",
        "    x = torch.randn((3, 1, 160, 160))\n",
        "    m = myUNET(in_channels=1, out_channels=1)\n",
        "    pred = m(x)\n",
        "\n",
        "    assert pred.shape == x.shape\n",
        "\n",
        "test()"
      ]
    },
    {
      "cell_type": "code",
      "execution_count": 6,
      "metadata": {
        "id": "XMPeoxb_xUTV"
      },
      "outputs": [],
      "source": [
        "import os\n",
        "from PIL import Image\n",
        "from torch.utils.data import Dataset\n",
        "import numpy as np"
      ]
    },
    {
      "cell_type": "code",
      "execution_count": 7,
      "metadata": {
        "id": "8xy32iIVxy-h"
      },
      "outputs": [],
      "source": [
        "class FaceDataset(Dataset):\n",
        "    def __init__(self, image_dir, mask_dir, transform=None):\n",
        "        self.image_dir = image_dir\n",
        "        self.mask_dir = mask_dir\n",
        "        self.transform = transform\n",
        "        self.images = os.listdir(image_dir)\n",
        "        self.masks = os.listdir(mask_dir)\n",
        "\n",
        "    def __len__(self):\n",
        "        return len(self.images)\n",
        "\n",
        "    def __getitem__(self, index):\n",
        "        image_path = os.path.join(self.image_dir, self.images[index])\n",
        "        mask_path = os.path.join(self.mask_dir, self.masks[index])\n",
        "        image = Image.open(image_path).convert(\"RGB\")\n",
        "        mask = Image.open(mask_path).convert(\"L\") #, dtype=np.float32)\n",
        "\n",
        "        #mask[mask == 255.0] = 1.0\n",
        "        #mask = mask/255.0\n",
        "\n",
        "        if self.transform is not None:\n",
        "\n",
        "            #augmentations = self.transform(image=image, mask=mask)\n",
        "            image = self.transform(image) #augmentations[\"image\"]\n",
        "            mask = self.transform(mask) #augmentations[\"mask\"]\n",
        "            mask = (mask > 0.5).float()\n",
        "\n",
        "        return image, mask"
      ]
    },
    {
      "cell_type": "code",
      "execution_count": 7,
      "metadata": {
        "id": "ZswELlbr01Id"
      },
      "outputs": [],
      "source": []
    },
    {
      "cell_type": "code",
      "execution_count": 8,
      "metadata": {
        "id": "YPVXNS6mo6mn"
      },
      "outputs": [],
      "source": [
        "import albumentations as A\n",
        "from albumentations.pytorch import ToTensorV2\n",
        "from tqdm import tqdm\n",
        "import torch.optim as optim\n",
        "import torchvision\n",
        "import torchvision.transforms as transforms"
      ]
    },
    {
      "cell_type": "code",
      "execution_count": 8,
      "metadata": {
        "id": "6uT8RpNPK-vU"
      },
      "outputs": [],
      "source": []
    },
    {
      "cell_type": "code",
      "execution_count": 9,
      "metadata": {
        "id": "gme7GcrQ4wXv"
      },
      "outputs": [],
      "source": [
        "#Hyperparamters\n",
        "\n",
        "LEARNING_RATE = 1e-4\n",
        "DEVICE = \"cuda\" if torch.cuda.is_available() else \"cpu\"\n",
        "BATCH_SIZE = 16\n",
        "NUM_EPOCHS = 50\n",
        "NUM_WORKERS = 2\n",
        "IMAGE_HEIGHT = 218\n",
        "IMAGE_WIDTH = 178\n",
        "PIN_MEMORY = True\n",
        "LOAD_MODEL = True\n",
        "IMG_DIR_TRAIN = \"/content/Portfolio/Eye_Segmentation_Project/Dataset_Faces_training\"\n",
        "IMG_DIR_VAL = \"/content/Portfolio/Eye_Segmentation_Project/Dataset_Faces_validation\"\n",
        "MASK_DIR_TRAIN = \"/content/Portfolio/Eye_Segmentation_Project/Dataset_Faces_Mask_training\"\n",
        "MASK_DIR_VAL = \"/content/Portfolio/Eye_Segmentation_Project/Dataset_Faces_Mask_validation\"\n",
        "SAVE_DIR = \"Saved_Images\""
      ]
    },
    {
      "cell_type": "code",
      "execution_count": 10,
      "metadata": {
        "id": "P6ziMvsKOTXp"
      },
      "outputs": [],
      "source": [
        "import cv2"
      ]
    },
    {
      "cell_type": "code",
      "execution_count": 11,
      "metadata": {
        "id": "qaxrihkB8v7g"
      },
      "outputs": [],
      "source": [
        "from torch.utils.data import DataLoader\n",
        "\n",
        "def save_checkpoint(state, filename=\"checkpoint.pth\"):\n",
        "    print(\"=> Saving checkpoint\")\n",
        "    torch.save(state, filename)\n",
        "\n",
        "def get_loaders(\n",
        "    train_dir,\n",
        "    train_mask_dir,\n",
        "    val_dir,\n",
        "    val_mask_dir,\n",
        "    batch_size,\n",
        "    train_transform,\n",
        "    val_transform,\n",
        "    num_workers=4,\n",
        "    pin_memory=True\n",
        "):\n",
        "    train_data = FaceDataset(image_dir=train_dir, mask_dir=train_mask_dir, transform = train_transform)\n",
        "    train_loader = DataLoader(train_data, batch_size=batch_size, num_workers=num_workers, pin_memory=pin_memory, shuffle=True)\n",
        "\n",
        "    val_data = FaceDataset(image_dir=val_dir, mask_dir=val_mask_dir, transform = val_transform)\n",
        "    val_loader = DataLoader(val_data, batch_size=batch_size, num_workers=num_workers, pin_memory=pin_memory, shuffle=False)\n",
        "\n",
        "    return train_loader, val_loader\n",
        "\n",
        "def check_accuracy(loader, model, device=\"cuda\"):\n",
        "    num_correct = 0 #did i predict correctly\n",
        "    num_pixels = 0 #how many pixel are correct Area accuracy\n",
        "\n",
        "    #In order to force the algorithm on finding a good solution instead of only putting black pixel to get a good accuracy due to the small size of the target\n",
        "    dice_score = 0\n",
        "\n",
        "    model.eval()\n",
        "\n",
        "    with torch.no_grad():\n",
        "        for x, y in loader:\n",
        "            x = x.to(device)\n",
        "            y = y.to(device)\n",
        "\n",
        "            preds = torch.sigmoid(model(x))\n",
        "            preds = (preds > 0.5).float()\n",
        "\n",
        "            num_correct += (preds == y).sum()\n",
        "            num_pixels += torch.numel(preds)\n",
        "            dice_score += (2 * (preds * y).sum()) / ((preds + y).sum() + 1e-8) #calculate the intersection between ground truth and prediction\n",
        "\n",
        "    print(f\"Got {num_correct}/{num_pixels} with accuracy {num_correct/num_pixels*100}:.2f\")\n",
        "    print(f\"Dice score {dice_score/len(loader)}\")\n",
        "\n",
        "    model.train()\n",
        "\n",
        "    return dice_score/len(loader)\n",
        "\n",
        "def save_predictions_as_imgs(loader, model, folder = SAVE_DIR, device=\"cuda\"):\n",
        "    if not os.path.exists(folder):\n",
        "      os.mkdir(folder)\n",
        "\n",
        "    model.eval()\n",
        "\n",
        "    for i , (x, y) in enumerate(loader):\n",
        "        x = x.to(device)\n",
        "        with torch.no_grad():\n",
        "            preds = torch.sigmoid(model(x))\n",
        "            preds = (preds > 0.5).float()\n",
        "            #print(y.shape)\n",
        "            #print(preds.shape)\n",
        "            #y = (y > 0.5).float()\n",
        "\n",
        "            # preds_path = os.path.join(folder, f\"pred_{i}.jpg\")\n",
        "            # truth_path = os.path.join(folder, f\"truth_{i}.jpg\")\n",
        "            # print(preds_path)\n",
        "            # print(truth_path)\n",
        "\n",
        "\n",
        "            #cv2.imwrite(preds_path, preds.cpu().detach().numpy())\n",
        "            #cv2.imwrite(truth_path, y.cpu().detach().numpy())\n",
        "            torchvision.utils.save_image(preds, f\"{folder}/pred_{i}.jpg\")\n",
        "            torchvision.utils.save_image(y, f\"{folder}/truth_{i}.jpg\")"
      ]
    },
    {
      "cell_type": "code",
      "execution_count": 12,
      "metadata": {
        "id": "3WXnQTla67Qm"
      },
      "outputs": [],
      "source": [
        "def train(loader, model, optimizer, loss_fn, scaler):\n",
        "    loop = tqdm(loader)\n",
        "\n",
        "    for i_batch, (data, targets) in enumerate(loop):\n",
        "        data = data.to(device=DEVICE)\n",
        "        targets = targets.float().unsqueeze(1).to(device=DEVICE)\n",
        "\n",
        "        with torch.cuda.amp.autocast():\n",
        "            preds = model(data)\n",
        "            loss = loss_fn(preds, targets)\n",
        "\n",
        "        optimizer.zero_grad()\n",
        "        scaler.scale(loss).backward()\n",
        "        scaler.step(optimizer)\n",
        "        scaler.update()\n",
        "\n",
        "        loop.set_postfix(loss=loss.item())"
      ]
    },
    {
      "cell_type": "code",
      "execution_count": 13,
      "metadata": {
        "id": "MQwP6_ZrZIQj"
      },
      "outputs": [],
      "source": [
        "import torch.nn.functional as F"
      ]
    },
    {
      "cell_type": "code",
      "execution_count": 14,
      "metadata": {
        "id": "7trSmNcxYuZc"
      },
      "outputs": [],
      "source": [
        "class DiceLoss(nn.Module):\n",
        "    def __init__(self, weight=None, size_average=True):\n",
        "        super(DiceLoss, self).__init__()\n",
        "\n",
        "    def forward(self, inputs, targets, smooth=1):\n",
        "\n",
        "        #comment out if your model contains a sigmoid or equivalent activation layer\n",
        "        inputs = F.sigmoid(inputs)\n",
        "\n",
        "        #flatten label and prediction tensors\n",
        "        inputs = inputs.view(-1)\n",
        "        targets = targets.view(-1)\n",
        "\n",
        "        intersection = (inputs * targets).sum()\n",
        "        dice = (2.*intersection + smooth)/(inputs.sum() + targets.sum() + smooth)\n",
        "\n",
        "        return 1. - dice"
      ]
    },
    {
      "cell_type": "code",
      "execution_count": 14,
      "metadata": {
        "id": "6ptIJu4rZDuz"
      },
      "outputs": [],
      "source": []
    },
    {
      "cell_type": "code",
      "execution_count": 15,
      "metadata": {
        "colab": {
          "base_uri": "https://localhost:8080/"
        },
        "id": "DAAUW9kb9YqE",
        "outputId": "450c866e-c9ba-4ac3-e9ae-a7f44c37ee46"
      },
      "outputs": [
        {
          "output_type": "stream",
          "name": "stderr",
          "text": [
            "\r  0%|          | 0/50 [00:00<?, ?it/s]/usr/lib/python3.10/multiprocessing/popen_fork.py:66: RuntimeWarning: os.fork() was called. os.fork() is incompatible with multithreaded code, and JAX is multithreaded, so this will likely lead to a deadlock.\n",
            "  self.pid = os.fork()\n",
            "100%|██████████| 50/50 [00:14<00:00,  3.43it/s, loss=0.98]\n"
          ]
        },
        {
          "output_type": "stream",
          "name": "stdout",
          "text": [
            "Got 7648305/7760800 with accuracy 98.55046844482422:.2f\n",
            "Dice score 0.27623623609542847\n",
            "=> Saving checkpoint\n"
          ]
        },
        {
          "output_type": "stream",
          "name": "stderr",
          "text": [
            "100%|██████████| 50/50 [00:10<00:00,  4.56it/s, loss=0.288]\n"
          ]
        },
        {
          "output_type": "stream",
          "name": "stdout",
          "text": [
            "Got 7747514/7760800 with accuracy 99.82880401611328:.2f\n",
            "Dice score 0.7116177082061768\n",
            "=> Saving checkpoint\n"
          ]
        },
        {
          "output_type": "stream",
          "name": "stderr",
          "text": [
            "100%|██████████| 50/50 [00:11<00:00,  4.54it/s, loss=0.217]\n"
          ]
        },
        {
          "output_type": "stream",
          "name": "stdout",
          "text": [
            "Got 7750363/7760800 with accuracy 99.86551666259766:.2f\n",
            "Dice score 0.7544875741004944\n",
            "=> Saving checkpoint\n"
          ]
        },
        {
          "output_type": "stream",
          "name": "stderr",
          "text": [
            "100%|██████████| 50/50 [00:11<00:00,  4.54it/s, loss=0.213]\n"
          ]
        },
        {
          "output_type": "stream",
          "name": "stdout",
          "text": [
            "Got 7750290/7760800 with accuracy 99.86457061767578:.2f\n",
            "Dice score 0.7792351245880127\n",
            "=> Saving checkpoint\n"
          ]
        },
        {
          "output_type": "stream",
          "name": "stderr",
          "text": [
            "100%|██████████| 50/50 [00:11<00:00,  4.50it/s, loss=0.267]\n"
          ]
        },
        {
          "output_type": "stream",
          "name": "stdout",
          "text": [
            "Got 7751887/7760800 with accuracy 99.88514709472656:.2f\n",
            "Dice score 0.7905100584030151\n",
            "=> Saving checkpoint\n"
          ]
        },
        {
          "output_type": "stream",
          "name": "stderr",
          "text": [
            "100%|██████████| 50/50 [00:11<00:00,  4.45it/s, loss=0.222]\n"
          ]
        },
        {
          "output_type": "stream",
          "name": "stdout",
          "text": [
            "Got 7751503/7760800 with accuracy 99.88020324707031:.2f\n",
            "Dice score 0.7994078993797302\n",
            "=> Saving checkpoint\n"
          ]
        },
        {
          "output_type": "stream",
          "name": "stderr",
          "text": [
            "100%|██████████| 50/50 [00:11<00:00,  4.45it/s, loss=0.197]\n"
          ]
        },
        {
          "output_type": "stream",
          "name": "stdout",
          "text": [
            "Got 7752855/7760800 with accuracy 99.89762115478516:.2f\n",
            "Dice score 0.8209949135780334\n",
            "=> Saving checkpoint\n"
          ]
        },
        {
          "output_type": "stream",
          "name": "stderr",
          "text": [
            "100%|██████████| 50/50 [00:11<00:00,  4.35it/s, loss=0.193]\n"
          ]
        },
        {
          "output_type": "stream",
          "name": "stdout",
          "text": [
            "Got 7753468/7760800 with accuracy 99.905517578125:.2f\n",
            "Dice score 0.8298905491828918\n",
            "=> Saving checkpoint\n"
          ]
        },
        {
          "output_type": "stream",
          "name": "stderr",
          "text": [
            "100%|██████████| 50/50 [00:11<00:00,  4.46it/s, loss=0.183]\n"
          ]
        },
        {
          "output_type": "stream",
          "name": "stdout",
          "text": [
            "Got 7752257/7760800 with accuracy 99.8899154663086:.2f\n",
            "Dice score 0.8264161944389343\n"
          ]
        },
        {
          "output_type": "stream",
          "name": "stderr",
          "text": [
            "100%|██████████| 50/50 [00:11<00:00,  4.47it/s, loss=0.176]\n"
          ]
        },
        {
          "output_type": "stream",
          "name": "stdout",
          "text": [
            "Got 7753523/7760800 with accuracy 99.9062271118164:.2f\n",
            "Dice score 0.8402523994445801\n",
            "=> Saving checkpoint\n"
          ]
        },
        {
          "output_type": "stream",
          "name": "stderr",
          "text": [
            "100%|██████████| 50/50 [00:11<00:00,  4.43it/s, loss=0.147]\n"
          ]
        },
        {
          "output_type": "stream",
          "name": "stdout",
          "text": [
            "Got 7753300/7760800 with accuracy 99.90335845947266:.2f\n",
            "Dice score 0.8179683089256287\n"
          ]
        },
        {
          "output_type": "stream",
          "name": "stderr",
          "text": [
            "100%|██████████| 50/50 [00:11<00:00,  4.44it/s, loss=0.159]\n"
          ]
        },
        {
          "output_type": "stream",
          "name": "stdout",
          "text": [
            "Got 7753333/7760800 with accuracy 99.90377807617188:.2f\n",
            "Dice score 0.8334044814109802\n"
          ]
        },
        {
          "output_type": "stream",
          "name": "stderr",
          "text": [
            "100%|██████████| 50/50 [00:11<00:00,  4.42it/s, loss=0.121]\n"
          ]
        },
        {
          "output_type": "stream",
          "name": "stdout",
          "text": [
            "Got 7753539/7760800 with accuracy 99.90644073486328:.2f\n",
            "Dice score 0.8439274430274963\n",
            "=> Saving checkpoint\n"
          ]
        },
        {
          "output_type": "stream",
          "name": "stderr",
          "text": [
            "100%|██████████| 50/50 [00:11<00:00,  4.42it/s, loss=0.137]\n"
          ]
        },
        {
          "output_type": "stream",
          "name": "stdout",
          "text": [
            "Got 7753909/7760800 with accuracy 99.91120147705078:.2f\n",
            "Dice score 0.8448635339736938\n",
            "=> Saving checkpoint\n"
          ]
        },
        {
          "output_type": "stream",
          "name": "stderr",
          "text": [
            "100%|██████████| 50/50 [00:11<00:00,  4.43it/s, loss=0.125]\n"
          ]
        },
        {
          "output_type": "stream",
          "name": "stdout",
          "text": [
            "Got 7753564/7760800 with accuracy 99.9067611694336:.2f\n",
            "Dice score 0.8447557091712952\n"
          ]
        },
        {
          "output_type": "stream",
          "name": "stderr",
          "text": [
            "100%|██████████| 50/50 [00:11<00:00,  4.42it/s, loss=0.121]\n"
          ]
        },
        {
          "output_type": "stream",
          "name": "stdout",
          "text": [
            "Got 7753752/7760800 with accuracy 99.9091796875:.2f\n",
            "Dice score 0.8412988185882568\n"
          ]
        },
        {
          "output_type": "stream",
          "name": "stderr",
          "text": [
            "100%|██████████| 50/50 [00:11<00:00,  4.42it/s, loss=0.129]\n"
          ]
        },
        {
          "output_type": "stream",
          "name": "stdout",
          "text": [
            "Got 7753751/7760800 with accuracy 99.90917205810547:.2f\n",
            "Dice score 0.8466681241989136\n",
            "=> Saving checkpoint\n"
          ]
        },
        {
          "output_type": "stream",
          "name": "stderr",
          "text": [
            "100%|██████████| 50/50 [00:11<00:00,  4.40it/s, loss=0.111]\n"
          ]
        },
        {
          "output_type": "stream",
          "name": "stdout",
          "text": [
            "Got 7753735/7760800 with accuracy 99.9089584350586:.2f\n",
            "Dice score 0.8464868068695068\n"
          ]
        },
        {
          "output_type": "stream",
          "name": "stderr",
          "text": [
            "100%|██████████| 50/50 [00:11<00:00,  4.38it/s, loss=0.123]\n"
          ]
        },
        {
          "output_type": "stream",
          "name": "stdout",
          "text": [
            "Got 7753962/7760800 with accuracy 99.9118881225586:.2f\n",
            "Dice score 0.8467183709144592\n",
            "=> Saving checkpoint\n"
          ]
        },
        {
          "output_type": "stream",
          "name": "stderr",
          "text": [
            "100%|██████████| 50/50 [00:11<00:00,  4.39it/s, loss=0.107]\n"
          ]
        },
        {
          "output_type": "stream",
          "name": "stdout",
          "text": [
            "Got 7753785/7760800 with accuracy 99.90960693359375:.2f\n",
            "Dice score 0.8496416211128235\n",
            "=> Saving checkpoint\n"
          ]
        },
        {
          "output_type": "stream",
          "name": "stderr",
          "text": [
            "100%|██████████| 50/50 [00:11<00:00,  4.41it/s, loss=0.148]\n"
          ]
        },
        {
          "output_type": "stream",
          "name": "stdout",
          "text": [
            "Got 7753525/7760800 with accuracy 99.90625:.2f\n",
            "Dice score 0.8425486087799072\n"
          ]
        },
        {
          "output_type": "stream",
          "name": "stderr",
          "text": [
            "100%|██████████| 50/50 [00:11<00:00,  4.40it/s, loss=0.0921]\n"
          ]
        },
        {
          "output_type": "stream",
          "name": "stdout",
          "text": [
            "Got 7753992/7760800 with accuracy 99.91227722167969:.2f\n",
            "Dice score 0.8509712815284729\n",
            "=> Saving checkpoint\n"
          ]
        },
        {
          "output_type": "stream",
          "name": "stderr",
          "text": [
            "100%|██████████| 50/50 [00:11<00:00,  4.40it/s, loss=0.153]\n"
          ]
        },
        {
          "output_type": "stream",
          "name": "stdout",
          "text": [
            "Got 7753918/7760800 with accuracy 99.91132354736328:.2f\n",
            "Dice score 0.8399144411087036\n"
          ]
        },
        {
          "output_type": "stream",
          "name": "stderr",
          "text": [
            "100%|██████████| 50/50 [00:11<00:00,  4.39it/s, loss=0.142]\n"
          ]
        },
        {
          "output_type": "stream",
          "name": "stdout",
          "text": [
            "Got 7754039/7760800 with accuracy 99.91287231445312:.2f\n",
            "Dice score 0.8454684019088745\n"
          ]
        },
        {
          "output_type": "stream",
          "name": "stderr",
          "text": [
            "100%|██████████| 50/50 [00:11<00:00,  4.38it/s, loss=0.116]\n"
          ]
        },
        {
          "output_type": "stream",
          "name": "stdout",
          "text": [
            "Got 7753745/7760800 with accuracy 99.90908813476562:.2f\n",
            "Dice score 0.8418771624565125\n"
          ]
        },
        {
          "output_type": "stream",
          "name": "stderr",
          "text": [
            "100%|██████████| 50/50 [00:11<00:00,  4.38it/s, loss=0.1]\n"
          ]
        },
        {
          "output_type": "stream",
          "name": "stdout",
          "text": [
            "Got 7753789/7760800 with accuracy 99.90966033935547:.2f\n",
            "Dice score 0.8350558280944824\n"
          ]
        },
        {
          "output_type": "stream",
          "name": "stderr",
          "text": [
            "100%|██████████| 50/50 [00:11<00:00,  4.39it/s, loss=0.104]\n"
          ]
        },
        {
          "output_type": "stream",
          "name": "stdout",
          "text": [
            "Got 7753741/7760800 with accuracy 99.9090347290039:.2f\n",
            "Dice score 0.8378851413726807\n"
          ]
        },
        {
          "output_type": "stream",
          "name": "stderr",
          "text": [
            "100%|██████████| 50/50 [00:11<00:00,  4.38it/s, loss=0.129]\n"
          ]
        },
        {
          "output_type": "stream",
          "name": "stdout",
          "text": [
            "Got 7753892/7760800 with accuracy 99.9109878540039:.2f\n",
            "Dice score 0.8428226113319397\n"
          ]
        },
        {
          "output_type": "stream",
          "name": "stderr",
          "text": [
            "100%|██████████| 50/50 [00:11<00:00,  4.39it/s, loss=0.0875]\n"
          ]
        },
        {
          "output_type": "stream",
          "name": "stdout",
          "text": [
            "Got 7753930/7760800 with accuracy 99.9114761352539:.2f\n",
            "Dice score 0.8502261638641357\n"
          ]
        },
        {
          "output_type": "stream",
          "name": "stderr",
          "text": [
            "100%|██████████| 50/50 [00:11<00:00,  4.39it/s, loss=0.103]\n"
          ]
        },
        {
          "output_type": "stream",
          "name": "stdout",
          "text": [
            "Got 7753609/7760800 with accuracy 99.90734100341797:.2f\n",
            "Dice score 0.8401073813438416\n"
          ]
        },
        {
          "output_type": "stream",
          "name": "stderr",
          "text": [
            "100%|██████████| 50/50 [00:11<00:00,  4.40it/s, loss=0.0724]\n"
          ]
        },
        {
          "output_type": "stream",
          "name": "stdout",
          "text": [
            "Got 7754114/7760800 with accuracy 99.91384887695312:.2f\n",
            "Dice score 0.8440607190132141\n"
          ]
        },
        {
          "output_type": "stream",
          "name": "stderr",
          "text": [
            "100%|██████████| 50/50 [00:11<00:00,  4.37it/s, loss=0.0461]\n"
          ]
        },
        {
          "output_type": "stream",
          "name": "stdout",
          "text": [
            "Got 7753837/7760800 with accuracy 99.9102783203125:.2f\n",
            "Dice score 0.8460631370544434\n"
          ]
        },
        {
          "output_type": "stream",
          "name": "stderr",
          "text": [
            "100%|██████████| 50/50 [00:11<00:00,  4.39it/s, loss=0.101]\n"
          ]
        },
        {
          "output_type": "stream",
          "name": "stdout",
          "text": [
            "Got 7753958/7760800 with accuracy 99.91183471679688:.2f\n",
            "Dice score 0.8493395447731018\n"
          ]
        },
        {
          "output_type": "stream",
          "name": "stderr",
          "text": [
            "100%|██████████| 50/50 [00:11<00:00,  4.40it/s, loss=0.0625]\n"
          ]
        },
        {
          "output_type": "stream",
          "name": "stdout",
          "text": [
            "Got 7754056/7760800 with accuracy 99.91309356689453:.2f\n",
            "Dice score 0.848822832107544\n"
          ]
        },
        {
          "output_type": "stream",
          "name": "stderr",
          "text": [
            "100%|██████████| 50/50 [00:11<00:00,  4.35it/s, loss=0.0665]\n"
          ]
        },
        {
          "output_type": "stream",
          "name": "stdout",
          "text": [
            "Got 7754115/7760800 with accuracy 99.91385650634766:.2f\n",
            "Dice score 0.8490436673164368\n"
          ]
        },
        {
          "output_type": "stream",
          "name": "stderr",
          "text": [
            "100%|██████████| 50/50 [00:11<00:00,  4.39it/s, loss=0.0674]\n"
          ]
        },
        {
          "output_type": "stream",
          "name": "stdout",
          "text": [
            "Got 7753986/7760800 with accuracy 99.91219329833984:.2f\n",
            "Dice score 0.8419026732444763\n"
          ]
        },
        {
          "output_type": "stream",
          "name": "stderr",
          "text": [
            "100%|██████████| 50/50 [00:11<00:00,  4.39it/s, loss=0.0454]\n"
          ]
        },
        {
          "output_type": "stream",
          "name": "stdout",
          "text": [
            "Got 7754034/7760800 with accuracy 99.9128189086914:.2f\n",
            "Dice score 0.8445780277252197\n"
          ]
        },
        {
          "output_type": "stream",
          "name": "stderr",
          "text": [
            "100%|██████████| 50/50 [00:11<00:00,  4.40it/s, loss=0.0538]\n"
          ]
        },
        {
          "output_type": "stream",
          "name": "stdout",
          "text": [
            "Got 7753977/7760800 with accuracy 99.91207885742188:.2f\n",
            "Dice score 0.8464606404304504\n"
          ]
        },
        {
          "output_type": "stream",
          "name": "stderr",
          "text": [
            "100%|██████████| 50/50 [00:11<00:00,  4.37it/s, loss=0.055]\n"
          ]
        },
        {
          "output_type": "stream",
          "name": "stdout",
          "text": [
            "Got 7754014/7760800 with accuracy 99.91255187988281:.2f\n",
            "Dice score 0.8450207114219666\n"
          ]
        },
        {
          "output_type": "stream",
          "name": "stderr",
          "text": [
            "100%|██████████| 50/50 [00:11<00:00,  4.39it/s, loss=0.0645]\n"
          ]
        },
        {
          "output_type": "stream",
          "name": "stdout",
          "text": [
            "Got 7753986/7760800 with accuracy 99.91219329833984:.2f\n",
            "Dice score 0.8487098813056946\n"
          ]
        },
        {
          "output_type": "stream",
          "name": "stderr",
          "text": [
            "100%|██████████| 50/50 [00:11<00:00,  4.39it/s, loss=0.0705]\n"
          ]
        },
        {
          "output_type": "stream",
          "name": "stdout",
          "text": [
            "Got 7753705/7760800 with accuracy 99.9085693359375:.2f\n",
            "Dice score 0.8329553008079529\n"
          ]
        },
        {
          "output_type": "stream",
          "name": "stderr",
          "text": [
            "100%|██████████| 50/50 [00:11<00:00,  4.38it/s, loss=0.0319]\n"
          ]
        },
        {
          "output_type": "stream",
          "name": "stdout",
          "text": [
            "Got 7754141/7760800 with accuracy 99.91419219970703:.2f\n",
            "Dice score 0.8497846126556396\n"
          ]
        },
        {
          "output_type": "stream",
          "name": "stderr",
          "text": [
            "100%|██████████| 50/50 [00:11<00:00,  4.40it/s, loss=0.0641]\n"
          ]
        },
        {
          "output_type": "stream",
          "name": "stdout",
          "text": [
            "Got 7754112/7760800 with accuracy 99.913818359375:.2f\n",
            "Dice score 0.8462971448898315\n"
          ]
        },
        {
          "output_type": "stream",
          "name": "stderr",
          "text": [
            "100%|██████████| 50/50 [00:11<00:00,  4.39it/s, loss=0.0623]\n"
          ]
        },
        {
          "output_type": "stream",
          "name": "stdout",
          "text": [
            "Got 7754023/7760800 with accuracy 99.91267395019531:.2f\n",
            "Dice score 0.8453021049499512\n"
          ]
        },
        {
          "output_type": "stream",
          "name": "stderr",
          "text": [
            "100%|██████████| 50/50 [00:11<00:00,  4.33it/s, loss=0.0294]\n"
          ]
        },
        {
          "output_type": "stream",
          "name": "stdout",
          "text": [
            "Got 7754135/7760800 with accuracy 99.91411590576172:.2f\n",
            "Dice score 0.8508919477462769\n"
          ]
        },
        {
          "output_type": "stream",
          "name": "stderr",
          "text": [
            "100%|██████████| 50/50 [00:11<00:00,  4.38it/s, loss=0.0342]\n"
          ]
        },
        {
          "output_type": "stream",
          "name": "stdout",
          "text": [
            "Got 7753992/7760800 with accuracy 99.91227722167969:.2f\n",
            "Dice score 0.8430540561676025\n"
          ]
        },
        {
          "output_type": "stream",
          "name": "stderr",
          "text": [
            "100%|██████████| 50/50 [00:11<00:00,  4.39it/s, loss=0.0357]\n"
          ]
        },
        {
          "output_type": "stream",
          "name": "stdout",
          "text": [
            "Got 7753869/7760800 with accuracy 99.91069030761719:.2f\n",
            "Dice score 0.836156964302063\n"
          ]
        },
        {
          "output_type": "stream",
          "name": "stderr",
          "text": [
            "100%|██████████| 50/50 [00:11<00:00,  4.35it/s, loss=0.0378]\n"
          ]
        },
        {
          "output_type": "stream",
          "name": "stdout",
          "text": [
            "Got 7754069/7760800 with accuracy 99.91326141357422:.2f\n",
            "Dice score 0.847012460231781\n"
          ]
        },
        {
          "output_type": "stream",
          "name": "stderr",
          "text": [
            "100%|██████████| 50/50 [00:11<00:00,  4.40it/s, loss=0.065]\n"
          ]
        },
        {
          "output_type": "stream",
          "name": "stdout",
          "text": [
            "Got 7753655/7760800 with accuracy 99.90792846679688:.2f\n",
            "Dice score 0.8427389860153198\n"
          ]
        },
        {
          "output_type": "stream",
          "name": "stderr",
          "text": [
            "100%|██████████| 50/50 [00:11<00:00,  4.38it/s, loss=0.051]\n"
          ]
        },
        {
          "output_type": "stream",
          "name": "stdout",
          "text": [
            "Got 7753806/7760800 with accuracy 99.90988159179688:.2f\n",
            "Dice score 0.8425098061561584\n"
          ]
        }
      ],
      "source": [
        "train_transform = transforms.Compose(\n",
        "    [\n",
        "        transforms.ToTensor(),\n",
        "        transforms.Resize((IMAGE_HEIGHT, IMAGE_WIDTH)),\n",
        "        #A.Rotate(limit=35, p=1.0),\n",
        "        #A.HorizontalFlip(p=0.5),\n",
        "        #A.VerticalFlip(p=0.1),\n",
        "        #transforms.Normalize((0.485, 0.456, 0.406), (0.229, 0.224, 0.225)),\n",
        "        #transforms.Grayscale(),\n",
        "    ]\n",
        ")\n",
        "\n",
        "validation_transform = transforms.Compose(\n",
        "    [\n",
        "        transforms.ToTensor(),\n",
        "        transforms.Resize((IMAGE_HEIGHT, IMAGE_WIDTH)),\n",
        "    ]\n",
        ")\n",
        "\n",
        "UNET = myUNET(in_channels=3, out_channels=1).to(DEVICE) #for multiple classes change out channels to number of classes\n",
        "#loss_fn = nn.BCEWithLogitsLoss() # for multiple classes use cross entropy\n",
        "\n",
        "loss_fn = DiceLoss() #Needed to force the NN to chose another strategy than putting every pixel to white\n",
        "optimizer = optim.Adam(UNET.parameters(), lr=LEARNING_RATE)\n",
        "\n",
        "train_loader, val_loader = get_loaders(\n",
        "    IMG_DIR_TRAIN,\n",
        "    MASK_DIR_TRAIN,\n",
        "    IMG_DIR_VAL,\n",
        "    MASK_DIR_VAL,\n",
        "    BATCH_SIZE,\n",
        "    train_transform,\n",
        "    validation_transform,\n",
        "    NUM_WORKERS,\n",
        "    PIN_MEMORY\n",
        ")\n",
        "\n",
        "scaler = torch.cuda.amp.GradScaler()\n",
        "\n",
        "old_dice = 0\n",
        "\n",
        "for epoch in range(NUM_EPOCHS):\n",
        "    #print(train_loader)\n",
        "    train(train_loader, UNET, optimizer, loss_fn, scaler)\n",
        "\n",
        "    checkpoint =  {\n",
        "        \"state_dict\": UNET.state_dict(),\n",
        "        \"optimizer\": optimizer.state_dict()\n",
        "    }\n",
        "\n",
        "    dice_score = check_accuracy(val_loader, UNET, device=DEVICE)\n",
        "\n",
        "    if old_dice < dice_score :\n",
        "      save_checkpoint(checkpoint)\n",
        "      old_dice = dice_score\n",
        "\n",
        "    save_predictions_as_imgs(val_loader, UNET, folder=\"/content/Saved_Images\", device=DEVICE)"
      ]
    },
    {
      "cell_type": "code",
      "execution_count": 16,
      "metadata": {
        "id": "BMWxNju5tXLL",
        "colab": {
          "base_uri": "https://localhost:8080/"
        },
        "outputId": "595d5a43-8a2c-45d5-9b49-9de89524aa0a"
      },
      "outputs": [
        {
          "output_type": "execute_result",
          "data": {
            "text/plain": [
              "<All keys matched successfully>"
            ]
          },
          "metadata": {},
          "execution_count": 16
        }
      ],
      "source": [
        "checkpoint = torch.load(\"/content/checkpoint.pth\")\n",
        "\n",
        "UNET.load_state_dict(checkpoint[\"state_dict\"])"
      ]
    },
    {
      "cell_type": "code",
      "execution_count": 17,
      "metadata": {
        "id": "uHjPc3IaE66I",
        "colab": {
          "base_uri": "https://localhost:8080/",
          "height": 221
        },
        "outputId": "a15c768d-fa60-4580-a620-0088d2b145c4"
      },
      "outputs": [
        {
          "output_type": "display_data",
          "data": {
            "text/plain": [
              "<Figure size 1500x1500 with 2 Axes>"
            ],
            "image/png": "[encoded data removed]"
          },
          "metadata": {}
        }
      ],
      "source": [
        "import matplotlib.pyplot as plt\n",
        "\n",
        "truth_image = Image.open('/content/Saved_Images/truth_0.jpg')\n",
        "pred_image = Image.open('/content/Saved_Images/pred_0.jpg')\n",
        "\n",
        "\n",
        "figure_size = 15\n",
        "plt.figure(figsize=(figure_size,figure_size))\n",
        "plt.subplot(1,2,1),plt.imshow(truth_image)\n",
        "plt.title('Truth Image'), plt.xticks([]), plt.yticks([])\n",
        "plt.subplot(1,2,2),plt.imshow(pred_image)\n",
        "plt.title('Prediction Image'), plt.xticks([]), plt.yticks([])\n",
        "plt.show()"
      ]
    },
    {
      "cell_type": "code",
      "execution_count": 17,
      "metadata": {
        "id": "ytQoBPi_Gua2"
      },
      "outputs": [],
      "source": []
    }
  ],
  "metadata": {
    "accelerator": "GPU",
    "colab": {
      "gpuType": "T4",
      "provenance": []
    },
    "kernelspec": {
      "display_name": "Python 3",
      "name": "python3"
    },
    "language_info": {
      "name": "python"
    }
  },
  "nbformat": 4,
  "nbformat_minor": 0
}
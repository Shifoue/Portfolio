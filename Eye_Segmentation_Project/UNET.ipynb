{
  "cells": [
    {
      "cell_type": "markdown",
      "metadata": {
        "id": "view-in-github"
      },
      "source": [
        "<a href=\"https://colab.research.google.com/github/Shifoue/Segmentation/blob/main/UNET.ipynb\" target=\"_parent\"><img src=\"https://colab.research.google.com/assets/colab-badge.svg\" alt=\"Open In Colab\"/></a>"
      ]
    },
    {
      "cell_type": "code",
      "execution_count": 1,
      "metadata": {
        "colab": {
          "base_uri": "https://localhost:8080/"
        },
        "id": "ujrwGtgr68UK",
        "outputId": "b3ef38ed-6792-4036-8168-d134ef979dfb"
      },
      "outputs": [
        {
          "output_type": "stream",
          "name": "stdout",
          "text": [
            "Cloning into 'Portfolio'...\n",
            "remote: Enumerating objects: 4210, done.\u001b[K\n",
            "remote: Counting objects: 100% (531/531), done.\u001b[K\n",
            "remote: Compressing objects: 100% (289/289), done.\u001b[K\n",
            "remote: Total 4210 (delta 245), reused 506 (delta 225), pack-reused 3679\u001b[K\n",
            "Receiving objects: 100% (4210/4210), 47.77 MiB | 34.72 MiB/s, done.\n",
            "Resolving deltas: 100% (811/811), done.\n"
          ]
        }
      ],
      "source": [
        "!git clone https://github.com/Shifoue/Portfolio.git"
      ]
    },
    {
      "cell_type": "code",
      "execution_count": 2,
      "metadata": {
        "id": "wB7z4p2s7OEF"
      },
      "outputs": [],
      "source": [
        "!cd Portfolio/Eye_Segmentation_Project/"
      ]
    },
    {
      "cell_type": "code",
      "execution_count": 3,
      "metadata": {
        "colab": {
          "base_uri": "https://localhost:8080/"
        },
        "id": "kDb5taucKa2Z",
        "outputId": "851133f4-ed16-4f2a-af44-d74a0d40bfd3"
      },
      "outputs": [
        {
          "output_type": "stream",
          "name": "stdout",
          "text": [
            "Collecting utils\n",
            "  Downloading utils-1.0.2.tar.gz (13 kB)\n",
            "  Preparing metadata (setup.py) ... \u001b[?25l\u001b[?25hdone\n",
            "Building wheels for collected packages: utils\n",
            "  Building wheel for utils (setup.py) ... \u001b[?25l\u001b[?25hdone\n",
            "  Created wheel for utils: filename=utils-1.0.2-py2.py3-none-any.whl size=13906 sha256=4545c896d1ca5753299f6780a39544070be97e8c1b45b0b2e7def6de46b04019\n",
            "  Stored in directory: /root/.cache/pip/wheels/b8/39/f5/9d0ca31dba85773ececf0a7f5469f18810e1c8a8ed9da28ca7\n",
            "Successfully built utils\n",
            "Installing collected packages: utils\n",
            "Successfully installed utils-1.0.2\n",
            "Collecting torchmetrics\n",
            "  Downloading torchmetrics-1.4.0-py3-none-any.whl (868 kB)\n",
            "\u001b[2K     \u001b[90m━━━━━━━━━━━━━━━━━━━━━━━━━━━━━━━━━━━━━━━━\u001b[0m \u001b[32m868.8/868.8 kB\u001b[0m \u001b[31m4.9 MB/s\u001b[0m eta \u001b[36m0:00:00\u001b[0m\n",
            "\u001b[?25hRequirement already satisfied: numpy>1.20.0 in /usr/local/lib/python3.10/dist-packages (from torchmetrics) (1.25.2)\n",
            "Requirement already satisfied: packaging>17.1 in /usr/local/lib/python3.10/dist-packages (from torchmetrics) (24.0)\n",
            "Requirement already satisfied: torch>=1.10.0 in /usr/local/lib/python3.10/dist-packages (from torchmetrics) (2.2.1+cu121)\n",
            "Collecting lightning-utilities>=0.8.0 (from torchmetrics)\n",
            "  Downloading lightning_utilities-0.11.2-py3-none-any.whl (26 kB)\n",
            "Collecting pretty-errors==1.2.25 (from torchmetrics)\n",
            "  Downloading pretty_errors-1.2.25-py3-none-any.whl (17 kB)\n",
            "Collecting colorama (from pretty-errors==1.2.25->torchmetrics)\n",
            "  Downloading colorama-0.4.6-py2.py3-none-any.whl (25 kB)\n",
            "Requirement already satisfied: setuptools in /usr/local/lib/python3.10/dist-packages (from lightning-utilities>=0.8.0->torchmetrics) (67.7.2)\n",
            "Requirement already satisfied: typing-extensions in /usr/local/lib/python3.10/dist-packages (from lightning-utilities>=0.8.0->torchmetrics) (4.11.0)\n",
            "Requirement already satisfied: filelock in /usr/local/lib/python3.10/dist-packages (from torch>=1.10.0->torchmetrics) (3.14.0)\n",
            "Requirement already satisfied: sympy in /usr/local/lib/python3.10/dist-packages (from torch>=1.10.0->torchmetrics) (1.12)\n",
            "Requirement already satisfied: networkx in /usr/local/lib/python3.10/dist-packages (from torch>=1.10.0->torchmetrics) (3.3)\n",
            "Requirement already satisfied: jinja2 in /usr/local/lib/python3.10/dist-packages (from torch>=1.10.0->torchmetrics) (3.1.4)\n",
            "Requirement already satisfied: fsspec in /usr/local/lib/python3.10/dist-packages (from torch>=1.10.0->torchmetrics) (2023.6.0)\n",
            "Collecting nvidia-cuda-nvrtc-cu12==12.1.105 (from torch>=1.10.0->torchmetrics)\n",
            "  Using cached nvidia_cuda_nvrtc_cu12-12.1.105-py3-none-manylinux1_x86_64.whl (23.7 MB)\n",
            "Collecting nvidia-cuda-runtime-cu12==12.1.105 (from torch>=1.10.0->torchmetrics)\n",
            "  Using cached nvidia_cuda_runtime_cu12-12.1.105-py3-none-manylinux1_x86_64.whl (823 kB)\n",
            "Collecting nvidia-cuda-cupti-cu12==12.1.105 (from torch>=1.10.0->torchmetrics)\n",
            "  Using cached nvidia_cuda_cupti_cu12-12.1.105-py3-none-manylinux1_x86_64.whl (14.1 MB)\n",
            "Collecting nvidia-cudnn-cu12==8.9.2.26 (from torch>=1.10.0->torchmetrics)\n",
            "  Using cached nvidia_cudnn_cu12-8.9.2.26-py3-none-manylinux1_x86_64.whl (731.7 MB)\n",
            "Collecting nvidia-cublas-cu12==12.1.3.1 (from torch>=1.10.0->torchmetrics)\n",
            "  Using cached nvidia_cublas_cu12-12.1.3.1-py3-none-manylinux1_x86_64.whl (410.6 MB)\n",
            "Collecting nvidia-cufft-cu12==11.0.2.54 (from torch>=1.10.0->torchmetrics)\n",
            "  Using cached nvidia_cufft_cu12-11.0.2.54-py3-none-manylinux1_x86_64.whl (121.6 MB)\n",
            "Collecting nvidia-curand-cu12==10.3.2.106 (from torch>=1.10.0->torchmetrics)\n",
            "  Using cached nvidia_curand_cu12-10.3.2.106-py3-none-manylinux1_x86_64.whl (56.5 MB)\n",
            "Collecting nvidia-cusolver-cu12==11.4.5.107 (from torch>=1.10.0->torchmetrics)\n",
            "  Using cached nvidia_cusolver_cu12-11.4.5.107-py3-none-manylinux1_x86_64.whl (124.2 MB)\n",
            "Collecting nvidia-cusparse-cu12==12.1.0.106 (from torch>=1.10.0->torchmetrics)\n",
            "  Using cached nvidia_cusparse_cu12-12.1.0.106-py3-none-manylinux1_x86_64.whl (196.0 MB)\n",
            "Collecting nvidia-nccl-cu12==2.19.3 (from torch>=1.10.0->torchmetrics)\n",
            "  Using cached nvidia_nccl_cu12-2.19.3-py3-none-manylinux1_x86_64.whl (166.0 MB)\n",
            "Collecting nvidia-nvtx-cu12==12.1.105 (from torch>=1.10.0->torchmetrics)\n",
            "  Using cached nvidia_nvtx_cu12-12.1.105-py3-none-manylinux1_x86_64.whl (99 kB)\n",
            "Requirement already satisfied: triton==2.2.0 in /usr/local/lib/python3.10/dist-packages (from torch>=1.10.0->torchmetrics) (2.2.0)\n",
            "Collecting nvidia-nvjitlink-cu12 (from nvidia-cusolver-cu12==11.4.5.107->torch>=1.10.0->torchmetrics)\n",
            "  Using cached nvidia_nvjitlink_cu12-12.4.127-py3-none-manylinux2014_x86_64.whl (21.1 MB)\n",
            "Requirement already satisfied: MarkupSafe>=2.0 in /usr/local/lib/python3.10/dist-packages (from jinja2->torch>=1.10.0->torchmetrics) (2.1.5)\n",
            "Requirement already satisfied: mpmath>=0.19 in /usr/local/lib/python3.10/dist-packages (from sympy->torch>=1.10.0->torchmetrics) (1.3.0)\n",
            "Installing collected packages: nvidia-nvtx-cu12, nvidia-nvjitlink-cu12, nvidia-nccl-cu12, nvidia-curand-cu12, nvidia-cufft-cu12, nvidia-cuda-runtime-cu12, nvidia-cuda-nvrtc-cu12, nvidia-cuda-cupti-cu12, nvidia-cublas-cu12, lightning-utilities, colorama, pretty-errors, nvidia-cusparse-cu12, nvidia-cudnn-cu12, nvidia-cusolver-cu12, torchmetrics\n",
            "Successfully installed colorama-0.4.6 lightning-utilities-0.11.2 nvidia-cublas-cu12-12.1.3.1 nvidia-cuda-cupti-cu12-12.1.105 nvidia-cuda-nvrtc-cu12-12.1.105 nvidia-cuda-runtime-cu12-12.1.105 nvidia-cudnn-cu12-8.9.2.26 nvidia-cufft-cu12-11.0.2.54 nvidia-curand-cu12-10.3.2.106 nvidia-cusolver-cu12-11.4.5.107 nvidia-cusparse-cu12-12.1.0.106 nvidia-nccl-cu12-2.19.3 nvidia-nvjitlink-cu12-12.4.127 nvidia-nvtx-cu12-12.1.105 pretty-errors-1.2.25 torchmetrics-1.4.0\n"
          ]
        }
      ],
      "source": [
        "!pip install utils\n",
        "!pip install torchmetrics"
      ]
    },
    {
      "cell_type": "code",
      "execution_count": 4,
      "metadata": {
        "colab": {
          "base_uri": "https://localhost:8080/"
        },
        "id": "-z7JswNTJhfo",
        "outputId": "74d186fa-0a74-4760-e4c5-06e5099231e2"
      },
      "outputs": [
        {
          "output_type": "stream",
          "name": "stdout",
          "text": [
            "unzip:  cannot find or open Dataset_Faces_training.zip, Dataset_Faces_training.zip.zip or Dataset_Faces_training.zip.ZIP.\n",
            "unzip:  cannot find or open Dataset_Faces_validation.zip, Dataset_Faces_validation.zip.zip or Dataset_Faces_validation.zip.ZIP.\n",
            "unzip:  cannot find or open Dataset_Faces_Mask_training.zip, Dataset_Faces_Mask_training.zip.zip or Dataset_Faces_Mask_training.zip.ZIP.\n",
            "unzip:  cannot find or open Dataset_Faces_Mask_validation.zip, Dataset_Faces_Mask_validation.zip.zip or Dataset_Faces_Mask_validation.zip.ZIP.\n"
          ]
        }
      ],
      "source": [
        "!unzip Dataset_Faces_training.zip\n",
        "!unzip Dataset_Faces_validation.zip\n",
        "\n",
        "!unzip Dataset_Faces_Mask_training.zip\n",
        "!unzip Dataset_Faces_Mask_validation.zip"
      ]
    },
    {
      "cell_type": "code",
      "execution_count": 5,
      "metadata": {
        "id": "gR8x9-8GdVo1"
      },
      "outputs": [],
      "source": [
        "import torch\n",
        "import torch.nn as nn\n",
        "\n",
        "class DoubleConv(nn.Module):\n",
        "    def __init__(self, in_channels, out_channels):\n",
        "        super(DoubleConv, self).__init__()\n",
        "        self.depht = nn.Sequential(\n",
        "            nn.Conv2d(in_channels, out_channels, 3, 1, 1, bias=False),\n",
        "            nn.BatchNorm2d(out_channels),\n",
        "            nn.ReLU(inplace=True),\n",
        "            nn.Conv2d(out_channels, out_channels, 3, 1, 1, bias=False),\n",
        "            nn.BatchNorm2d(out_channels),\n",
        "            nn.ReLU(inplace=True),\n",
        "        )\n",
        "\n",
        "    def forward(self, X):\n",
        "        return self.depht(X)\n",
        "\n",
        "class myUNET(nn.Module):\n",
        "    def __init__(self, in_channels=3, out_channels=1, features=[64, 128, 256, 512]):\n",
        "      super(myUNET, self).__init__()\n",
        "      self.encode = nn.ModuleList()\n",
        "      self.decode = nn.ModuleList()\n",
        "      self.pool = nn.MaxPool2d(kernel_size=2, stride=2) #divide size per 2\n",
        "\n",
        "      # Encode\n",
        "      for feature in features:\n",
        "          self.encode.append(DoubleConv(in_channels, feature))\n",
        "          in_channels = feature\n",
        "\n",
        "      # Decode\n",
        "      for feature in reversed(features):\n",
        "          self.decode.append(nn.ConvTranspose2d(feature*2, feature, kernel_size=2, stride=2))\n",
        "          self.decode.append(DoubleConv(feature*2, feature))\n",
        "\n",
        "      self.bottleneck = DoubleConv(features[-1], features[-1]*2)\n",
        "      self.final_conv = nn.Conv2d(features[0], out_channels, kernel_size=1)\n",
        "\n",
        "    def forward(self, X):\n",
        "        skip_connections = []\n",
        "\n",
        "        for depht in self.encode:\n",
        "            X = depht(X)\n",
        "            skip_connections.append(X)\n",
        "            X = self.pool(X)\n",
        "\n",
        "        X = self.bottleneck(X)\n",
        "        skip_connections = skip_connections[::-1]\n",
        "\n",
        "        for i in range(0, len(self.decode), 2):\n",
        "            X = self.decode[i](X)\n",
        "            #skip_connection = skip_connections[-1 - i//2]\n",
        "            skip_connection = skip_connections[i//2]\n",
        "\n",
        "            if X.shape != skip_connection.shape:\n",
        "                X = torch.nn.functional.interpolate(X, size=skip_connection.shape[2:])\n",
        "\n",
        "            concat_skip = torch.cat((skip_connection, X), dim=1)\n",
        "            X = self.decode[i+1](concat_skip)\n",
        "\n",
        "        return self.final_conv(X)\n",
        "\n",
        "def test():\n",
        "    x = torch.randn((3, 1, 160, 160))\n",
        "    m = myUNET(in_channels=1, out_channels=1)\n",
        "    pred = m(x)\n",
        "\n",
        "    assert pred.shape == x.shape\n",
        "\n",
        "test()"
      ]
    },
    {
      "cell_type": "code",
      "execution_count": 6,
      "metadata": {
        "id": "XMPeoxb_xUTV"
      },
      "outputs": [],
      "source": [
        "import os\n",
        "from PIL import Image\n",
        "from torch.utils.data import Dataset\n",
        "import numpy as np"
      ]
    },
    {
      "cell_type": "code",
      "execution_count": 7,
      "metadata": {
        "id": "8xy32iIVxy-h"
      },
      "outputs": [],
      "source": [
        "class FaceDataset(Dataset):\n",
        "    def __init__(self, image_dir, mask_dir, transform=None):\n",
        "        self.image_dir = image_dir\n",
        "        self.mask_dir = mask_dir\n",
        "        self.transform = transform\n",
        "        self.images = os.listdir(image_dir)\n",
        "        self.masks = os.listdir(mask_dir)\n",
        "\n",
        "    def __len__(self):\n",
        "        return len(self.images)\n",
        "\n",
        "    def __getitem__(self, index):\n",
        "        image_path = os.path.join(self.image_dir, self.images[index])\n",
        "        mask_path = os.path.join(self.mask_dir, self.masks[index])\n",
        "        image = Image.open(image_path).convert(\"RGB\")\n",
        "        mask = Image.open(mask_path).convert(\"L\") #, dtype=np.float32)\n",
        "\n",
        "        #mask[mask == 255.0] = 1.0\n",
        "        #mask = mask/255.0\n",
        "\n",
        "        if self.transform is not None:\n",
        "\n",
        "            #augmentations = self.transform(image=image, mask=mask)\n",
        "            image = self.transform(image) #augmentations[\"image\"]\n",
        "            mask = self.transform(mask) #augmentations[\"mask\"]\n",
        "            mask = (mask > 0.5).float()\n",
        "\n",
        "        return image, mask"
      ]
    },
    {
      "cell_type": "code",
      "execution_count": 7,
      "metadata": {
        "id": "ZswELlbr01Id"
      },
      "outputs": [],
      "source": []
    },
    {
      "cell_type": "code",
      "execution_count": 8,
      "metadata": {
        "id": "YPVXNS6mo6mn"
      },
      "outputs": [],
      "source": [
        "import albumentations as A\n",
        "from albumentations.pytorch import ToTensorV2\n",
        "from tqdm import tqdm\n",
        "import torch.optim as optim\n",
        "import torchvision\n",
        "import torchvision.transforms as transforms"
      ]
    },
    {
      "cell_type": "code",
      "execution_count": 8,
      "metadata": {
        "id": "6uT8RpNPK-vU"
      },
      "outputs": [],
      "source": []
    },
    {
      "cell_type": "code",
      "execution_count": 9,
      "metadata": {
        "id": "gme7GcrQ4wXv"
      },
      "outputs": [],
      "source": [
        "#Hyperparamters\n",
        "\n",
        "LEARNING_RATE = 1e-4 #1e-2 for SGD 1e-4 ADAM\n",
        "DEVICE = \"cuda\" if torch.cuda.is_available() else \"cpu\"\n",
        "BATCH_SIZE = 16\n",
        "NUM_EPOCHS = 100\n",
        "NUM_WORKERS = 2\n",
        "IMAGE_HEIGHT = 218\n",
        "IMAGE_WIDTH = 178\n",
        "PIN_MEMORY = True\n",
        "LOAD_MODEL = True\n",
        "IMG_DIR_TRAIN = \"/content/Portfolio/Eye_Segmentation_Project/Dataset_Faces_training\"\n",
        "IMG_DIR_VAL = \"/content/Portfolio/Eye_Segmentation_Project/Dataset_Faces_validation\"\n",
        "MASK_DIR_TRAIN = \"/content/Portfolio/Eye_Segmentation_Project/Dataset_Faces_Mask_training\"\n",
        "MASK_DIR_VAL = \"/content/Portfolio/Eye_Segmentation_Project/Dataset_Faces_Mask_validation\"\n",
        "SAVE_DIR = \"Saved_Images\""
      ]
    },
    {
      "cell_type": "code",
      "execution_count": 10,
      "metadata": {
        "id": "P6ziMvsKOTXp"
      },
      "outputs": [],
      "source": [
        "import cv2"
      ]
    },
    {
      "cell_type": "code",
      "execution_count": 11,
      "metadata": {
        "id": "qaxrihkB8v7g"
      },
      "outputs": [],
      "source": [
        "from torch.utils.data import DataLoader\n",
        "\n",
        "def save_checkpoint(state, filename=\"checkpoint.pth\"):\n",
        "    print(\"=> Saving checkpoint\")\n",
        "    torch.save(state, filename)\n",
        "\n",
        "def get_loaders(\n",
        "    train_dir,\n",
        "    train_mask_dir,\n",
        "    val_dir,\n",
        "    val_mask_dir,\n",
        "    batch_size,\n",
        "    train_transform,\n",
        "    val_transform,\n",
        "    num_workers=4,\n",
        "    pin_memory=True\n",
        "):\n",
        "    train_data = FaceDataset(image_dir=train_dir, mask_dir=train_mask_dir, transform = train_transform)\n",
        "    train_loader = DataLoader(train_data, batch_size=batch_size, num_workers=num_workers, pin_memory=pin_memory, shuffle=True)\n",
        "\n",
        "    val_data = FaceDataset(image_dir=val_dir, mask_dir=val_mask_dir, transform = val_transform)\n",
        "    val_loader = DataLoader(val_data, batch_size=batch_size, num_workers=num_workers, pin_memory=pin_memory, shuffle=False)\n",
        "\n",
        "    return train_loader, val_loader\n",
        "\n",
        "def check_accuracy(loader, model, device=\"cuda\"):\n",
        "    num_correct = 0 #did i predict correctly\n",
        "    num_pixels = 0 #how many pixel are correct Area accuracy\n",
        "\n",
        "    #In order to force the algorithm on finding a good solution instead of only putting black pixel to get a good accuracy due to the small size of the target\n",
        "    dice_score = 0\n",
        "\n",
        "    model.eval()\n",
        "\n",
        "    with torch.no_grad():\n",
        "        for x, y in loader:\n",
        "            x = x.to(device)\n",
        "            y = y.to(device)\n",
        "\n",
        "            preds = torch.sigmoid(model(x))\n",
        "            preds = (preds > 0.5).float()\n",
        "\n",
        "            num_correct += (preds == y).sum()\n",
        "            num_pixels += torch.numel(preds)\n",
        "            dice_score += (2 * (preds * y).sum()) / ((preds + y).sum() + 1e-8) #calculate the intersection between ground truth and prediction\n",
        "\n",
        "    print(f\"Got {num_correct}/{num_pixels} with accuracy {num_correct/num_pixels*100}:.2f\")\n",
        "    print(f\"Dice score {dice_score/len(loader)}\")\n",
        "\n",
        "    model.train()\n",
        "\n",
        "    return dice_score/len(loader), num_correct/num_pixels\n",
        "\n",
        "def save_predictions_as_imgs(loader, model, folder = SAVE_DIR, device=\"cuda\"):\n",
        "    if not os.path.exists(folder):\n",
        "      os.mkdir(folder)\n",
        "\n",
        "    model.eval()\n",
        "\n",
        "    for i , (x, y) in enumerate(loader):\n",
        "        x = x.to(device)\n",
        "        with torch.no_grad():\n",
        "            preds = torch.sigmoid(model(x))\n",
        "            preds = (preds > 0.5).float()\n",
        "            #print(y.shape)\n",
        "            #print(preds.shape)\n",
        "            #y = (y > 0.5).float()\n",
        "\n",
        "            # preds_path = os.path.join(folder, f\"pred_{i}.jpg\")\n",
        "            # truth_path = os.path.join(folder, f\"truth_{i}.jpg\")\n",
        "            # print(preds_path)\n",
        "            # print(truth_path)\n",
        "\n",
        "\n",
        "            #cv2.imwrite(preds_path, preds.cpu().detach().numpy())\n",
        "            #cv2.imwrite(truth_path, y.cpu().detach().numpy())\n",
        "            torchvision.utils.save_image(preds, f\"{folder}/pred_{i}.jpg\")\n",
        "            torchvision.utils.save_image(y, f\"{folder}/truth_{i}.jpg\")"
      ]
    },
    {
      "cell_type": "code",
      "execution_count": 12,
      "metadata": {
        "id": "3WXnQTla67Qm"
      },
      "outputs": [],
      "source": [
        "def train(loader, model, optimizer, loss_fn, scaler):\n",
        "    loop = tqdm(loader)\n",
        "\n",
        "    for i_batch, (data, targets) in enumerate(loop):\n",
        "        data = data.to(device=DEVICE)\n",
        "        targets = targets.float().unsqueeze(1).to(device=DEVICE)\n",
        "\n",
        "        with torch.cuda.amp.autocast():\n",
        "            preds = model(data)\n",
        "            loss = loss_fn(preds, targets)\n",
        "\n",
        "        optimizer.zero_grad()\n",
        "        scaler.scale(loss).backward()\n",
        "        scaler.step(optimizer)\n",
        "        scaler.update()\n",
        "\n",
        "        loop.set_postfix(loss=loss.item())"
      ]
    },
    {
      "cell_type": "code",
      "execution_count": 13,
      "metadata": {
        "id": "MQwP6_ZrZIQj"
      },
      "outputs": [],
      "source": [
        "import torch.nn.functional as F"
      ]
    },
    {
      "cell_type": "code",
      "execution_count": 14,
      "metadata": {
        "id": "7trSmNcxYuZc"
      },
      "outputs": [],
      "source": [
        "class DiceLoss(nn.Module):\n",
        "    def __init__(self, weight=None, size_average=True):\n",
        "        super(DiceLoss, self).__init__()\n",
        "\n",
        "    def forward(self, inputs, targets, smooth=1):\n",
        "\n",
        "        #comment out if your model contains a sigmoid or equivalent activation layer\n",
        "        inputs = F.sigmoid(inputs)\n",
        "\n",
        "        #flatten label and prediction tensors\n",
        "        inputs = inputs.view(-1)\n",
        "        targets = targets.view(-1)\n",
        "\n",
        "        intersection = (inputs * targets).sum()\n",
        "        dice = (2.*intersection + smooth)/(inputs.sum() + targets.sum() + smooth)\n",
        "\n",
        "        return 1. - dice"
      ]
    },
    {
      "cell_type": "code",
      "execution_count": 14,
      "metadata": {
        "id": "6ptIJu4rZDuz"
      },
      "outputs": [],
      "source": []
    },
    {
      "cell_type": "code",
      "execution_count": 15,
      "metadata": {
        "colab": {
          "base_uri": "https://localhost:8080/"
        },
        "id": "DAAUW9kb9YqE",
        "outputId": "09e885c0-cde5-408c-c1f4-be8b56f2cf3d"
      },
      "outputs": [
        {
          "output_type": "stream",
          "name": "stderr",
          "text": [
            "\r  0%|          | 0/50 [00:00<?, ?it/s]/usr/lib/python3.10/multiprocessing/popen_fork.py:66: RuntimeWarning: os.fork() was called. os.fork() is incompatible with multithreaded code, and JAX is multithreaded, so this will likely lead to a deadlock.\n",
            "  self.pid = os.fork()\n",
            "100%|██████████| 50/50 [00:14<00:00,  3.45it/s, loss=0.975]\n"
          ]
        },
        {
          "output_type": "stream",
          "name": "stdout",
          "text": [
            "Got 7531973/7760800 with accuracy 97.05149841308594:.2f\n",
            "Dice score 0.15764504671096802\n",
            "=> Saving checkpoint\n"
          ]
        },
        {
          "output_type": "stream",
          "name": "stderr",
          "text": [
            "100%|██████████| 50/50 [00:10<00:00,  4.55it/s, loss=0.353]\n"
          ]
        },
        {
          "output_type": "stream",
          "name": "stdout",
          "text": [
            "Got 7748285/7760800 with accuracy 99.83873748779297:.2f\n",
            "Dice score 0.7108160257339478\n",
            "=> Saving checkpoint\n"
          ]
        },
        {
          "output_type": "stream",
          "name": "stderr",
          "text": [
            "100%|██████████| 50/50 [00:11<00:00,  4.51it/s, loss=0.213]\n"
          ]
        },
        {
          "output_type": "stream",
          "name": "stdout",
          "text": [
            "Got 7750417/7760800 with accuracy 99.86620330810547:.2f\n",
            "Dice score 0.7587864995002747\n",
            "=> Saving checkpoint\n"
          ]
        },
        {
          "output_type": "stream",
          "name": "stderr",
          "text": [
            "100%|██████████| 50/50 [00:11<00:00,  4.44it/s, loss=0.208]\n"
          ]
        },
        {
          "output_type": "stream",
          "name": "stdout",
          "text": [
            "Got 7751565/7760800 with accuracy 99.88099670410156:.2f\n",
            "Dice score 0.7920501828193665\n",
            "=> Saving checkpoint\n"
          ]
        },
        {
          "output_type": "stream",
          "name": "stderr",
          "text": [
            "100%|██████████| 50/50 [00:11<00:00,  4.39it/s, loss=0.193]\n"
          ]
        },
        {
          "output_type": "stream",
          "name": "stdout",
          "text": [
            "Got 7751506/7760800 with accuracy 99.88024139404297:.2f\n",
            "Dice score 0.798152506351471\n",
            "=> Saving checkpoint\n"
          ]
        },
        {
          "output_type": "stream",
          "name": "stderr",
          "text": [
            "100%|██████████| 50/50 [00:11<00:00,  4.34it/s, loss=0.119]\n"
          ]
        },
        {
          "output_type": "stream",
          "name": "stdout",
          "text": [
            "Got 7752743/7760800 with accuracy 99.89617919921875:.2f\n",
            "Dice score 0.8130412697792053\n",
            "=> Saving checkpoint\n"
          ]
        },
        {
          "output_type": "stream",
          "name": "stderr",
          "text": [
            "100%|██████████| 50/50 [00:12<00:00,  3.95it/s, loss=0.183]\n"
          ]
        },
        {
          "output_type": "stream",
          "name": "stdout",
          "text": [
            "Got 7752897/7760800 with accuracy 99.89816284179688:.2f\n",
            "Dice score 0.8152444362640381\n",
            "=> Saving checkpoint\n"
          ]
        },
        {
          "output_type": "stream",
          "name": "stderr",
          "text": [
            "100%|██████████| 50/50 [00:12<00:00,  4.17it/s, loss=0.201]\n"
          ]
        },
        {
          "output_type": "stream",
          "name": "stdout",
          "text": [
            "Got 7752555/7760800 with accuracy 99.89375305175781:.2f\n",
            "Dice score 0.8233104944229126\n",
            "=> Saving checkpoint\n"
          ]
        },
        {
          "output_type": "stream",
          "name": "stderr",
          "text": [
            "100%|██████████| 50/50 [00:12<00:00,  4.08it/s, loss=0.212]\n"
          ]
        },
        {
          "output_type": "stream",
          "name": "stdout",
          "text": [
            "Got 7752757/7760800 with accuracy 99.8963623046875:.2f\n",
            "Dice score 0.8230421543121338\n"
          ]
        },
        {
          "output_type": "stream",
          "name": "stderr",
          "text": [
            "100%|██████████| 50/50 [00:13<00:00,  3.74it/s, loss=0.978]\n"
          ]
        },
        {
          "output_type": "stream",
          "name": "stdout",
          "text": [
            "Got 7451090/7760800 with accuracy 96.0093002319336:.2f\n",
            "Dice score 0.12652112543582916\n"
          ]
        },
        {
          "output_type": "stream",
          "name": "stderr",
          "text": [
            "100%|██████████| 50/50 [00:13<00:00,  3.84it/s, loss=0.971]\n"
          ]
        },
        {
          "output_type": "stream",
          "name": "stdout",
          "text": [
            "Got 7675739/7760800 with accuracy 98.90396118164062:.2f\n",
            "Dice score 0.34362688660621643\n"
          ]
        },
        {
          "output_type": "stream",
          "name": "stderr",
          "text": [
            "100%|██████████| 50/50 [00:12<00:00,  3.86it/s, loss=0.967]\n"
          ]
        },
        {
          "output_type": "stream",
          "name": "stdout",
          "text": [
            "Got 7711280/7760800 with accuracy 99.3619155883789:.2f\n",
            "Dice score 0.4704417586326599\n"
          ]
        },
        {
          "output_type": "stream",
          "name": "stderr",
          "text": [
            "100%|██████████| 50/50 [00:13<00:00,  3.84it/s, loss=0.954]\n"
          ]
        },
        {
          "output_type": "stream",
          "name": "stdout",
          "text": [
            "Got 7722860/7760800 with accuracy 99.5111312866211:.2f\n",
            "Dice score 0.5361562967300415\n"
          ]
        },
        {
          "output_type": "stream",
          "name": "stderr",
          "text": [
            "100%|██████████| 50/50 [00:13<00:00,  3.82it/s, loss=0.946]\n"
          ]
        },
        {
          "output_type": "stream",
          "name": "stdout",
          "text": [
            "Got 7730335/7760800 with accuracy 99.6074447631836:.2f\n",
            "Dice score 0.5902539491653442\n"
          ]
        },
        {
          "output_type": "stream",
          "name": "stderr",
          "text": [
            "100%|██████████| 50/50 [00:13<00:00,  3.79it/s, loss=0.934]\n"
          ]
        },
        {
          "output_type": "stream",
          "name": "stdout",
          "text": [
            "Got 7735647/7760800 with accuracy 99.67589569091797:.2f\n",
            "Dice score 0.6331098675727844\n"
          ]
        },
        {
          "output_type": "stream",
          "name": "stderr",
          "text": [
            "100%|██████████| 50/50 [00:13<00:00,  3.79it/s, loss=0.909]\n"
          ]
        },
        {
          "output_type": "stream",
          "name": "stdout",
          "text": [
            "Got 7742314/7760800 with accuracy 99.76179504394531:.2f\n",
            "Dice score 0.7007547616958618\n"
          ]
        },
        {
          "output_type": "stream",
          "name": "stderr",
          "text": [
            "100%|██████████| 50/50 [00:13<00:00,  3.80it/s, loss=0.87]\n"
          ]
        },
        {
          "output_type": "stream",
          "name": "stdout",
          "text": [
            "Got 7741337/7760800 with accuracy 99.74920654296875:.2f\n",
            "Dice score 0.6899428963661194\n"
          ]
        },
        {
          "output_type": "stream",
          "name": "stderr",
          "text": [
            "100%|██████████| 50/50 [00:13<00:00,  3.80it/s, loss=0.828]\n"
          ]
        },
        {
          "output_type": "stream",
          "name": "stdout",
          "text": [
            "Got 7747945/7760800 with accuracy 99.83435821533203:.2f\n",
            "Dice score 0.767472505569458\n"
          ]
        },
        {
          "output_type": "stream",
          "name": "stderr",
          "text": [
            "100%|██████████| 50/50 [00:13<00:00,  3.81it/s, loss=0.801]\n"
          ]
        },
        {
          "output_type": "stream",
          "name": "stdout",
          "text": [
            "Got 7748077/7760800 with accuracy 99.8360595703125:.2f\n",
            "Dice score 0.769776463508606\n"
          ]
        },
        {
          "output_type": "stream",
          "name": "stderr",
          "text": [
            "100%|██████████| 50/50 [00:13<00:00,  3.78it/s, loss=0.742]\n"
          ]
        },
        {
          "output_type": "stream",
          "name": "stdout",
          "text": [
            "Got 7750165/7760800 with accuracy 99.86296081542969:.2f\n",
            "Dice score 0.7935945391654968\n"
          ]
        },
        {
          "output_type": "stream",
          "name": "stderr",
          "text": [
            "100%|██████████| 50/50 [00:13<00:00,  3.78it/s, loss=0.611]\n"
          ]
        },
        {
          "output_type": "stream",
          "name": "stdout",
          "text": [
            "Got 7750412/7760800 with accuracy 99.86614227294922:.2f\n",
            "Dice score 0.7974687814712524\n"
          ]
        },
        {
          "output_type": "stream",
          "name": "stderr",
          "text": [
            "100%|██████████| 50/50 [00:13<00:00,  3.79it/s, loss=0.55]\n"
          ]
        },
        {
          "output_type": "stream",
          "name": "stdout",
          "text": [
            "Got 7751646/7760800 with accuracy 99.88204193115234:.2f\n",
            "Dice score 0.815928041934967\n"
          ]
        },
        {
          "output_type": "stream",
          "name": "stderr",
          "text": [
            "100%|██████████| 50/50 [00:13<00:00,  3.78it/s, loss=0.52]\n"
          ]
        },
        {
          "output_type": "stream",
          "name": "stdout",
          "text": [
            "Got 7752831/7760800 with accuracy 99.8973159790039:.2f\n",
            "Dice score 0.8335049152374268\n",
            "=> Saving checkpoint\n"
          ]
        },
        {
          "output_type": "stream",
          "name": "stderr",
          "text": [
            "100%|██████████| 50/50 [00:11<00:00,  4.17it/s, loss=0.194]\n"
          ]
        },
        {
          "output_type": "stream",
          "name": "stdout",
          "text": [
            "Got 7752776/7760800 with accuracy 99.8966064453125:.2f\n",
            "Dice score 0.8122665882110596\n"
          ]
        },
        {
          "output_type": "stream",
          "name": "stderr",
          "text": [
            "100%|██████████| 50/50 [00:13<00:00,  3.75it/s, loss=0.397]\n"
          ]
        },
        {
          "output_type": "stream",
          "name": "stdout",
          "text": [
            "Got 7752085/7760800 with accuracy 99.8876953125:.2f\n",
            "Dice score 0.8231313228607178\n"
          ]
        },
        {
          "output_type": "stream",
          "name": "stderr",
          "text": [
            "100%|██████████| 50/50 [00:13<00:00,  3.75it/s, loss=0.33]\n"
          ]
        },
        {
          "output_type": "stream",
          "name": "stdout",
          "text": [
            "Got 7753003/7760800 with accuracy 99.89952850341797:.2f\n",
            "Dice score 0.8350516557693481\n",
            "=> Saving checkpoint\n"
          ]
        },
        {
          "output_type": "stream",
          "name": "stderr",
          "text": [
            "100%|██████████| 50/50 [00:12<00:00,  4.15it/s, loss=0.174]\n"
          ]
        },
        {
          "output_type": "stream",
          "name": "stdout",
          "text": [
            "Got 7753387/7760800 with accuracy 99.90447998046875:.2f\n",
            "Dice score 0.8260003328323364\n"
          ]
        },
        {
          "output_type": "stream",
          "name": "stderr",
          "text": [
            "100%|██████████| 50/50 [00:13<00:00,  3.79it/s, loss=0.334]\n"
          ]
        },
        {
          "output_type": "stream",
          "name": "stdout",
          "text": [
            "Got 7752865/7760800 with accuracy 99.89775085449219:.2f\n",
            "Dice score 0.8342391848564148\n"
          ]
        },
        {
          "output_type": "stream",
          "name": "stderr",
          "text": [
            "100%|██████████| 50/50 [00:13<00:00,  3.79it/s, loss=0.292]\n"
          ]
        },
        {
          "output_type": "stream",
          "name": "stdout",
          "text": [
            "Got 7753764/7760800 with accuracy 99.90933227539062:.2f\n",
            "Dice score 0.8392029404640198\n",
            "=> Saving checkpoint\n"
          ]
        },
        {
          "output_type": "stream",
          "name": "stderr",
          "text": [
            "100%|██████████| 50/50 [00:12<00:00,  4.15it/s, loss=0.127]\n"
          ]
        },
        {
          "output_type": "stream",
          "name": "stdout",
          "text": [
            "Got 7753186/7760800 with accuracy 99.90188598632812:.2f\n",
            "Dice score 0.8347938060760498\n"
          ]
        },
        {
          "output_type": "stream",
          "name": "stderr",
          "text": [
            "100%|██████████| 50/50 [00:13<00:00,  3.79it/s, loss=0.229]\n"
          ]
        },
        {
          "output_type": "stream",
          "name": "stdout",
          "text": [
            "Got 7753581/7760800 with accuracy 99.90697479248047:.2f\n",
            "Dice score 0.8410410284996033\n",
            "=> Saving checkpoint\n"
          ]
        },
        {
          "output_type": "stream",
          "name": "stderr",
          "text": [
            "100%|██████████| 50/50 [00:12<00:00,  4.08it/s, loss=0.14]\n"
          ]
        },
        {
          "output_type": "stream",
          "name": "stdout",
          "text": [
            "Got 7753445/7760800 with accuracy 99.90522003173828:.2f\n",
            "Dice score 0.8258233666419983\n"
          ]
        },
        {
          "output_type": "stream",
          "name": "stderr",
          "text": [
            "100%|██████████| 50/50 [00:13<00:00,  3.78it/s, loss=0.212]\n"
          ]
        },
        {
          "output_type": "stream",
          "name": "stdout",
          "text": [
            "Got 7753551/7760800 with accuracy 99.90658569335938:.2f\n",
            "Dice score 0.8427115082740784\n",
            "=> Saving checkpoint\n"
          ]
        },
        {
          "output_type": "stream",
          "name": "stderr",
          "text": [
            "100%|██████████| 50/50 [00:12<00:00,  4.14it/s, loss=0.146]\n"
          ]
        },
        {
          "output_type": "stream",
          "name": "stdout",
          "text": [
            "Got 7753613/7760800 with accuracy 99.90739440917969:.2f\n",
            "Dice score 0.8418715000152588\n"
          ]
        },
        {
          "output_type": "stream",
          "name": "stderr",
          "text": [
            "100%|██████████| 50/50 [00:13<00:00,  3.76it/s, loss=0.232]\n"
          ]
        },
        {
          "output_type": "stream",
          "name": "stdout",
          "text": [
            "Got 7753643/7760800 with accuracy 99.90777587890625:.2f\n",
            "Dice score 0.8355882167816162\n"
          ]
        },
        {
          "output_type": "stream",
          "name": "stderr",
          "text": [
            "100%|██████████| 50/50 [00:13<00:00,  3.79it/s, loss=0.163]\n"
          ]
        },
        {
          "output_type": "stream",
          "name": "stdout",
          "text": [
            "Got 7753444/7760800 with accuracy 99.90521240234375:.2f\n",
            "Dice score 0.8409937620162964\n"
          ]
        },
        {
          "output_type": "stream",
          "name": "stderr",
          "text": [
            "100%|██████████| 50/50 [00:13<00:00,  3.79it/s, loss=0.172]\n"
          ]
        },
        {
          "output_type": "stream",
          "name": "stdout",
          "text": [
            "Got 7753851/7760800 with accuracy 99.91045379638672:.2f\n",
            "Dice score 0.8380621075630188\n"
          ]
        },
        {
          "output_type": "stream",
          "name": "stderr",
          "text": [
            "100%|██████████| 50/50 [00:13<00:00,  3.81it/s, loss=0.158]\n"
          ]
        },
        {
          "output_type": "stream",
          "name": "stdout",
          "text": [
            "Got 7753841/7760800 with accuracy 99.91032409667969:.2f\n",
            "Dice score 0.8425570726394653\n"
          ]
        },
        {
          "output_type": "stream",
          "name": "stderr",
          "text": [
            "100%|██████████| 50/50 [00:13<00:00,  3.80it/s, loss=0.142]\n"
          ]
        },
        {
          "output_type": "stream",
          "name": "stdout",
          "text": [
            "Got 7753868/7760800 with accuracy 99.91067504882812:.2f\n",
            "Dice score 0.8396769762039185\n"
          ]
        },
        {
          "output_type": "stream",
          "name": "stderr",
          "text": [
            "100%|██████████| 50/50 [00:13<00:00,  3.79it/s, loss=0.138]\n"
          ]
        },
        {
          "output_type": "stream",
          "name": "stdout",
          "text": [
            "Got 7753874/7760800 with accuracy 99.91075134277344:.2f\n",
            "Dice score 0.8382729887962341\n"
          ]
        },
        {
          "output_type": "stream",
          "name": "stderr",
          "text": [
            "100%|██████████| 50/50 [00:13<00:00,  3.80it/s, loss=0.138]\n"
          ]
        },
        {
          "output_type": "stream",
          "name": "stdout",
          "text": [
            "Got 7753839/7760800 with accuracy 99.9103012084961:.2f\n",
            "Dice score 0.8432003259658813\n",
            "=> Saving checkpoint\n"
          ]
        },
        {
          "output_type": "stream",
          "name": "stderr",
          "text": [
            "100%|██████████| 50/50 [00:12<00:00,  4.09it/s, loss=0.0857]\n"
          ]
        },
        {
          "output_type": "stream",
          "name": "stdout",
          "text": [
            "Got 7753514/7760800 with accuracy 99.90612030029297:.2f\n",
            "Dice score 0.8381029367446899\n"
          ]
        },
        {
          "output_type": "stream",
          "name": "stderr",
          "text": [
            "100%|██████████| 50/50 [00:13<00:00,  3.78it/s, loss=0.107]\n"
          ]
        },
        {
          "output_type": "stream",
          "name": "stdout",
          "text": [
            "Got 7753983/7760800 with accuracy 99.91215515136719:.2f\n",
            "Dice score 0.8439726829528809\n",
            "=> Saving checkpoint\n"
          ]
        },
        {
          "output_type": "stream",
          "name": "stderr",
          "text": [
            "100%|██████████| 50/50 [00:12<00:00,  4.14it/s, loss=0.108]\n"
          ]
        },
        {
          "output_type": "stream",
          "name": "stdout",
          "text": [
            "Got 7753241/7760800 with accuracy 99.90259552001953:.2f\n",
            "Dice score 0.8161584734916687\n"
          ]
        },
        {
          "output_type": "stream",
          "name": "stderr",
          "text": [
            "100%|██████████| 50/50 [00:13<00:00,  3.79it/s, loss=0.132]\n"
          ]
        },
        {
          "output_type": "stream",
          "name": "stdout",
          "text": [
            "Got 7753975/7760800 with accuracy 99.91205596923828:.2f\n",
            "Dice score 0.8473948836326599\n",
            "=> Saving checkpoint\n"
          ]
        },
        {
          "output_type": "stream",
          "name": "stderr",
          "text": [
            "100%|██████████| 50/50 [00:12<00:00,  4.14it/s, loss=0.115]\n"
          ]
        },
        {
          "output_type": "stream",
          "name": "stdout",
          "text": [
            "Got 7753445/7760800 with accuracy 99.90522003173828:.2f\n",
            "Dice score 0.8381921648979187\n"
          ]
        },
        {
          "output_type": "stream",
          "name": "stderr",
          "text": [
            "100%|██████████| 50/50 [00:13<00:00,  3.80it/s, loss=0.0961]\n"
          ]
        },
        {
          "output_type": "stream",
          "name": "stdout",
          "text": [
            "Got 7753959/7760800 with accuracy 99.91184997558594:.2f\n",
            "Dice score 0.8423920273780823\n"
          ]
        },
        {
          "output_type": "stream",
          "name": "stderr",
          "text": [
            "100%|██████████| 50/50 [00:13<00:00,  3.78it/s, loss=0.0835]\n"
          ]
        },
        {
          "output_type": "stream",
          "name": "stdout",
          "text": [
            "Got 7754034/7760800 with accuracy 99.9128189086914:.2f\n",
            "Dice score 0.8412652611732483\n"
          ]
        },
        {
          "output_type": "stream",
          "name": "stderr",
          "text": [
            "100%|██████████| 50/50 [00:13<00:00,  3.79it/s, loss=0.0742]\n"
          ]
        },
        {
          "output_type": "stream",
          "name": "stdout",
          "text": [
            "Got 7753884/7760800 with accuracy 99.91088104248047:.2f\n",
            "Dice score 0.8404449820518494\n"
          ]
        },
        {
          "output_type": "stream",
          "name": "stderr",
          "text": [
            "100%|██████████| 50/50 [00:13<00:00,  3.80it/s, loss=0.0671]\n"
          ]
        },
        {
          "output_type": "stream",
          "name": "stdout",
          "text": [
            "Got 7753865/7760800 with accuracy 99.91063690185547:.2f\n",
            "Dice score 0.8381475806236267\n"
          ]
        },
        {
          "output_type": "stream",
          "name": "stderr",
          "text": [
            "100%|██████████| 50/50 [00:13<00:00,  3.81it/s, loss=0.0568]\n"
          ]
        },
        {
          "output_type": "stream",
          "name": "stdout",
          "text": [
            "Got 7754185/7760800 with accuracy 99.91475677490234:.2f\n",
            "Dice score 0.8465539216995239\n"
          ]
        },
        {
          "output_type": "stream",
          "name": "stderr",
          "text": [
            "100%|██████████| 50/50 [00:13<00:00,  3.80it/s, loss=0.0491]\n"
          ]
        },
        {
          "output_type": "stream",
          "name": "stdout",
          "text": [
            "Got 7753887/7760800 with accuracy 99.91091918945312:.2f\n",
            "Dice score 0.8452684283256531\n"
          ]
        },
        {
          "output_type": "stream",
          "name": "stderr",
          "text": [
            "100%|██████████| 50/50 [00:13<00:00,  3.77it/s, loss=0.0631]\n"
          ]
        },
        {
          "output_type": "stream",
          "name": "stdout",
          "text": [
            "Got 7753398/7760800 with accuracy 99.90461730957031:.2f\n",
            "Dice score 0.8170937895774841\n"
          ]
        },
        {
          "output_type": "stream",
          "name": "stderr",
          "text": [
            "100%|██████████| 50/50 [00:13<00:00,  3.79it/s, loss=0.0446]\n"
          ]
        },
        {
          "output_type": "stream",
          "name": "stdout",
          "text": [
            "Got 7754015/7760800 with accuracy 99.9125747680664:.2f\n",
            "Dice score 0.838275671005249\n"
          ]
        },
        {
          "output_type": "stream",
          "name": "stderr",
          "text": [
            "100%|██████████| 50/50 [00:13<00:00,  3.77it/s, loss=0.0427]\n"
          ]
        },
        {
          "output_type": "stream",
          "name": "stdout",
          "text": [
            "Got 7754027/7760800 with accuracy 99.91272735595703:.2f\n",
            "Dice score 0.8421179056167603\n"
          ]
        },
        {
          "output_type": "stream",
          "name": "stderr",
          "text": [
            "100%|██████████| 50/50 [00:13<00:00,  3.79it/s, loss=0.0414]\n"
          ]
        },
        {
          "output_type": "stream",
          "name": "stdout",
          "text": [
            "Got 7753971/7760800 with accuracy 99.91200256347656:.2f\n",
            "Dice score 0.8392983078956604\n"
          ]
        },
        {
          "output_type": "stream",
          "name": "stderr",
          "text": [
            "100%|██████████| 50/50 [00:13<00:00,  3.82it/s, loss=0.0407]\n"
          ]
        },
        {
          "output_type": "stream",
          "name": "stdout",
          "text": [
            "Got 7754084/7760800 with accuracy 99.91345977783203:.2f\n",
            "Dice score 0.8468719124794006\n"
          ]
        },
        {
          "output_type": "stream",
          "name": "stderr",
          "text": [
            "100%|██████████| 50/50 [00:13<00:00,  3.80it/s, loss=0.0337]\n"
          ]
        },
        {
          "output_type": "stream",
          "name": "stdout",
          "text": [
            "Got 7754000/7760800 with accuracy 99.9123764038086:.2f\n",
            "Dice score 0.8432043194770813\n"
          ]
        },
        {
          "output_type": "stream",
          "name": "stderr",
          "text": [
            "100%|██████████| 50/50 [00:13<00:00,  3.79it/s, loss=0.0366]\n"
          ]
        },
        {
          "output_type": "stream",
          "name": "stdout",
          "text": [
            "Got 7754076/7760800 with accuracy 99.9133529663086:.2f\n",
            "Dice score 0.8500826954841614\n",
            "=> Saving checkpoint\n"
          ]
        },
        {
          "output_type": "stream",
          "name": "stderr",
          "text": [
            "100%|██████████| 50/50 [00:12<00:00,  4.08it/s, loss=0.0268]\n"
          ]
        },
        {
          "output_type": "stream",
          "name": "stdout",
          "text": [
            "Got 7753868/7760800 with accuracy 99.91067504882812:.2f\n",
            "Dice score 0.8459426164627075\n"
          ]
        },
        {
          "output_type": "stream",
          "name": "stderr",
          "text": [
            "100%|██████████| 50/50 [00:13<00:00,  3.80it/s, loss=0.0397]\n"
          ]
        },
        {
          "output_type": "stream",
          "name": "stdout",
          "text": [
            "Got 7753712/7760800 with accuracy 99.9086685180664:.2f\n",
            "Dice score 0.8301694393157959\n"
          ]
        },
        {
          "output_type": "stream",
          "name": "stderr",
          "text": [
            "100%|██████████| 50/50 [00:13<00:00,  3.80it/s, loss=0.0295]\n"
          ]
        },
        {
          "output_type": "stream",
          "name": "stdout",
          "text": [
            "Got 7753898/7760800 with accuracy 99.91106414794922:.2f\n",
            "Dice score 0.8431566953659058\n"
          ]
        },
        {
          "output_type": "stream",
          "name": "stderr",
          "text": [
            "100%|██████████| 50/50 [00:13<00:00,  3.80it/s, loss=0.0349]\n"
          ]
        },
        {
          "output_type": "stream",
          "name": "stdout",
          "text": [
            "Got 7753847/7760800 with accuracy 99.910400390625:.2f\n",
            "Dice score 0.8366069197654724\n"
          ]
        },
        {
          "output_type": "stream",
          "name": "stderr",
          "text": [
            "100%|██████████| 50/50 [00:13<00:00,  3.80it/s, loss=0.0416]\n"
          ]
        },
        {
          "output_type": "stream",
          "name": "stdout",
          "text": [
            "Got 7753718/7760800 with accuracy 99.90874481201172:.2f\n",
            "Dice score 0.8346467018127441\n"
          ]
        },
        {
          "output_type": "stream",
          "name": "stderr",
          "text": [
            "100%|██████████| 50/50 [00:13<00:00,  3.74it/s, loss=0.0227]\n"
          ]
        },
        {
          "output_type": "stream",
          "name": "stdout",
          "text": [
            "Got 7753921/7760800 with accuracy 99.9113540649414:.2f\n",
            "Dice score 0.841890275478363\n"
          ]
        },
        {
          "output_type": "stream",
          "name": "stderr",
          "text": [
            "100%|██████████| 50/50 [00:13<00:00,  3.80it/s, loss=0.0283]\n"
          ]
        },
        {
          "output_type": "stream",
          "name": "stdout",
          "text": [
            "Got 7753939/7760800 with accuracy 99.91159057617188:.2f\n",
            "Dice score 0.8383511304855347\n"
          ]
        },
        {
          "output_type": "stream",
          "name": "stderr",
          "text": [
            "100%|██████████| 50/50 [00:13<00:00,  3.81it/s, loss=0.0292]\n"
          ]
        },
        {
          "output_type": "stream",
          "name": "stdout",
          "text": [
            "Got 7754104/7760800 with accuracy 99.9137191772461:.2f\n",
            "Dice score 0.8466456532478333\n"
          ]
        },
        {
          "output_type": "stream",
          "name": "stderr",
          "text": [
            "100%|██████████| 50/50 [00:13<00:00,  3.81it/s, loss=0.0245]\n"
          ]
        },
        {
          "output_type": "stream",
          "name": "stdout",
          "text": [
            "Got 7753993/7760800 with accuracy 99.91228485107422:.2f\n",
            "Dice score 0.8404069542884827\n"
          ]
        },
        {
          "output_type": "stream",
          "name": "stderr",
          "text": [
            "100%|██████████| 50/50 [00:13<00:00,  3.80it/s, loss=0.02]\n"
          ]
        },
        {
          "output_type": "stream",
          "name": "stdout",
          "text": [
            "Got 7753773/7760800 with accuracy 99.9094467163086:.2f\n",
            "Dice score 0.8348473906517029\n"
          ]
        },
        {
          "output_type": "stream",
          "name": "stderr",
          "text": [
            "100%|██████████| 50/50 [00:13<00:00,  3.79it/s, loss=0.0643]\n"
          ]
        },
        {
          "output_type": "stream",
          "name": "stdout",
          "text": [
            "Got 7753946/7760800 with accuracy 99.91167449951172:.2f\n",
            "Dice score 0.8386635780334473\n"
          ]
        },
        {
          "output_type": "stream",
          "name": "stderr",
          "text": [
            "100%|██████████| 50/50 [00:13<00:00,  3.79it/s, loss=0.0165]\n"
          ]
        },
        {
          "output_type": "stream",
          "name": "stdout",
          "text": [
            "Got 7754057/7760800 with accuracy 99.9131088256836:.2f\n",
            "Dice score 0.8465648293495178\n"
          ]
        },
        {
          "output_type": "stream",
          "name": "stderr",
          "text": [
            "100%|██████████| 50/50 [00:13<00:00,  3.80it/s, loss=0.0198]\n"
          ]
        },
        {
          "output_type": "stream",
          "name": "stdout",
          "text": [
            "Got 7754192/7760800 with accuracy 99.91484832763672:.2f\n",
            "Dice score 0.8453964591026306\n"
          ]
        },
        {
          "output_type": "stream",
          "name": "stderr",
          "text": [
            "100%|██████████| 50/50 [00:13<00:00,  3.81it/s, loss=0.0098]\n"
          ]
        },
        {
          "output_type": "stream",
          "name": "stdout",
          "text": [
            "Got 7753993/7760800 with accuracy 99.91228485107422:.2f\n",
            "Dice score 0.8389561176300049\n"
          ]
        },
        {
          "output_type": "stream",
          "name": "stderr",
          "text": [
            "100%|██████████| 50/50 [00:13<00:00,  3.79it/s, loss=0.0153]\n"
          ]
        },
        {
          "output_type": "stream",
          "name": "stdout",
          "text": [
            "Got 7753981/7760800 with accuracy 99.9121322631836:.2f\n",
            "Dice score 0.8463560342788696\n"
          ]
        },
        {
          "output_type": "stream",
          "name": "stderr",
          "text": [
            "100%|██████████| 50/50 [00:13<00:00,  3.79it/s, loss=0.027]\n"
          ]
        },
        {
          "output_type": "stream",
          "name": "stdout",
          "text": [
            "Got 7753931/7760800 with accuracy 99.91148376464844:.2f\n",
            "Dice score 0.8396599888801575\n"
          ]
        },
        {
          "output_type": "stream",
          "name": "stderr",
          "text": [
            "100%|██████████| 50/50 [00:13<00:00,  3.80it/s, loss=0.0175]\n"
          ]
        },
        {
          "output_type": "stream",
          "name": "stdout",
          "text": [
            "Got 7753995/7760800 with accuracy 99.91230773925781:.2f\n",
            "Dice score 0.8415530323982239\n"
          ]
        },
        {
          "output_type": "stream",
          "name": "stderr",
          "text": [
            "100%|██████████| 50/50 [00:13<00:00,  3.80it/s, loss=0.0248]\n"
          ]
        },
        {
          "output_type": "stream",
          "name": "stdout",
          "text": [
            "Got 7753996/7760800 with accuracy 99.91232299804688:.2f\n",
            "Dice score 0.8403310179710388\n"
          ]
        },
        {
          "output_type": "stream",
          "name": "stderr",
          "text": [
            "100%|██████████| 50/50 [00:13<00:00,  3.77it/s, loss=0.0236]\n"
          ]
        },
        {
          "output_type": "stream",
          "name": "stdout",
          "text": [
            "Got 7754056/7760800 with accuracy 99.91309356689453:.2f\n",
            "Dice score 0.8463260531425476\n"
          ]
        },
        {
          "output_type": "stream",
          "name": "stderr",
          "text": [
            "100%|██████████| 50/50 [00:13<00:00,  3.77it/s, loss=0.0254]\n"
          ]
        },
        {
          "output_type": "stream",
          "name": "stdout",
          "text": [
            "Got 7754116/7760800 with accuracy 99.91387176513672:.2f\n",
            "Dice score 0.8441619277000427\n"
          ]
        },
        {
          "output_type": "stream",
          "name": "stderr",
          "text": [
            "100%|██████████| 50/50 [00:13<00:00,  3.76it/s, loss=0.00945]\n"
          ]
        },
        {
          "output_type": "stream",
          "name": "stdout",
          "text": [
            "Got 7754182/7760800 with accuracy 99.91472625732422:.2f\n",
            "Dice score 0.8496425747871399\n"
          ]
        },
        {
          "output_type": "stream",
          "name": "stderr",
          "text": [
            "100%|██████████| 50/50 [00:13<00:00,  3.80it/s, loss=0.0133]\n"
          ]
        },
        {
          "output_type": "stream",
          "name": "stdout",
          "text": [
            "Got 7754025/7760800 with accuracy 99.9126968383789:.2f\n",
            "Dice score 0.8429363965988159\n"
          ]
        },
        {
          "output_type": "stream",
          "name": "stderr",
          "text": [
            "100%|██████████| 50/50 [00:13<00:00,  3.78it/s, loss=0.0115]\n"
          ]
        },
        {
          "output_type": "stream",
          "name": "stdout",
          "text": [
            "Got 7753977/7760800 with accuracy 99.91207885742188:.2f\n",
            "Dice score 0.84209805727005\n"
          ]
        },
        {
          "output_type": "stream",
          "name": "stderr",
          "text": [
            "100%|██████████| 50/50 [00:13<00:00,  3.78it/s, loss=0.0115]\n"
          ]
        },
        {
          "output_type": "stream",
          "name": "stdout",
          "text": [
            "Got 7753984/7760800 with accuracy 99.91217041015625:.2f\n",
            "Dice score 0.8427653908729553\n"
          ]
        },
        {
          "output_type": "stream",
          "name": "stderr",
          "text": [
            "100%|██████████| 50/50 [00:13<00:00,  3.81it/s, loss=0.034]\n"
          ]
        },
        {
          "output_type": "stream",
          "name": "stdout",
          "text": [
            "Got 7753716/7760800 with accuracy 99.9087142944336:.2f\n",
            "Dice score 0.835468053817749\n"
          ]
        },
        {
          "output_type": "stream",
          "name": "stderr",
          "text": [
            "100%|██████████| 50/50 [00:13<00:00,  3.80it/s, loss=0.0331]\n"
          ]
        },
        {
          "output_type": "stream",
          "name": "stdout",
          "text": [
            "Got 7753276/7760800 with accuracy 99.90304565429688:.2f\n",
            "Dice score 0.8174871802330017\n"
          ]
        },
        {
          "output_type": "stream",
          "name": "stderr",
          "text": [
            "100%|██████████| 50/50 [00:13<00:00,  3.81it/s, loss=0.0275]\n"
          ]
        },
        {
          "output_type": "stream",
          "name": "stdout",
          "text": [
            "Got 7753527/7760800 with accuracy 99.90628051757812:.2f\n",
            "Dice score 0.8299497961997986\n"
          ]
        },
        {
          "output_type": "stream",
          "name": "stderr",
          "text": [
            "100%|██████████| 50/50 [00:13<00:00,  3.79it/s, loss=0.02]\n"
          ]
        },
        {
          "output_type": "stream",
          "name": "stdout",
          "text": [
            "Got 7752946/7760800 with accuracy 99.89879608154297:.2f\n",
            "Dice score 0.8055870532989502\n"
          ]
        },
        {
          "output_type": "stream",
          "name": "stderr",
          "text": [
            "100%|██████████| 50/50 [00:13<00:00,  3.77it/s, loss=0.00901]\n"
          ]
        },
        {
          "output_type": "stream",
          "name": "stdout",
          "text": [
            "Got 7754024/7760800 with accuracy 99.91268157958984:.2f\n",
            "Dice score 0.8425101041793823\n"
          ]
        },
        {
          "output_type": "stream",
          "name": "stderr",
          "text": [
            "100%|██████████| 50/50 [00:13<00:00,  3.80it/s, loss=0.0191]\n"
          ]
        },
        {
          "output_type": "stream",
          "name": "stdout",
          "text": [
            "Got 7754008/7760800 with accuracy 99.9124755859375:.2f\n",
            "Dice score 0.8410446643829346\n"
          ]
        },
        {
          "output_type": "stream",
          "name": "stderr",
          "text": [
            "100%|██████████| 50/50 [00:13<00:00,  3.79it/s, loss=0.0055]\n"
          ]
        },
        {
          "output_type": "stream",
          "name": "stdout",
          "text": [
            "Got 7753932/7760800 with accuracy 99.9114990234375:.2f\n",
            "Dice score 0.8378365635871887\n"
          ]
        },
        {
          "output_type": "stream",
          "name": "stderr",
          "text": [
            "100%|██████████| 50/50 [00:13<00:00,  3.80it/s, loss=0.00912]\n"
          ]
        },
        {
          "output_type": "stream",
          "name": "stdout",
          "text": [
            "Got 7754030/7760800 with accuracy 99.91276550292969:.2f\n",
            "Dice score 0.8442084789276123\n"
          ]
        },
        {
          "output_type": "stream",
          "name": "stderr",
          "text": [
            "100%|██████████| 50/50 [00:13<00:00,  3.82it/s, loss=0.0129]\n"
          ]
        },
        {
          "output_type": "stream",
          "name": "stdout",
          "text": [
            "Got 7754116/7760800 with accuracy 99.91387176513672:.2f\n",
            "Dice score 0.8463183045387268\n"
          ]
        },
        {
          "output_type": "stream",
          "name": "stderr",
          "text": [
            "100%|██████████| 50/50 [00:13<00:00,  3.80it/s, loss=0.0115]\n"
          ]
        },
        {
          "output_type": "stream",
          "name": "stdout",
          "text": [
            "Got 7754051/7760800 with accuracy 99.91303253173828:.2f\n",
            "Dice score 0.8441771864891052\n"
          ]
        },
        {
          "output_type": "stream",
          "name": "stderr",
          "text": [
            "100%|██████████| 50/50 [00:13<00:00,  3.80it/s, loss=0.00762]\n"
          ]
        },
        {
          "output_type": "stream",
          "name": "stdout",
          "text": [
            "Got 7754087/7760800 with accuracy 99.91349792480469:.2f\n",
            "Dice score 0.8450246453285217\n"
          ]
        },
        {
          "output_type": "stream",
          "name": "stderr",
          "text": [
            "100%|██████████| 50/50 [00:13<00:00,  3.80it/s, loss=0.0143]\n"
          ]
        },
        {
          "output_type": "stream",
          "name": "stdout",
          "text": [
            "Got 7754040/7760800 with accuracy 99.91289520263672:.2f\n",
            "Dice score 0.8405616283416748\n"
          ]
        },
        {
          "output_type": "stream",
          "name": "stderr",
          "text": [
            "100%|██████████| 50/50 [00:13<00:00,  3.84it/s, loss=0.0041]\n"
          ]
        },
        {
          "output_type": "stream",
          "name": "stdout",
          "text": [
            "Got 7754096/7760800 with accuracy 99.91361236572266:.2f\n",
            "Dice score 0.8461441397666931\n"
          ]
        },
        {
          "output_type": "stream",
          "name": "stderr",
          "text": [
            "100%|██████████| 50/50 [00:13<00:00,  3.82it/s, loss=0.00453]\n"
          ]
        },
        {
          "output_type": "stream",
          "name": "stdout",
          "text": [
            "Got 7754105/7760800 with accuracy 99.91372680664062:.2f\n",
            "Dice score 0.841677188873291\n"
          ]
        },
        {
          "output_type": "stream",
          "name": "stderr",
          "text": [
            "100%|██████████| 50/50 [00:13<00:00,  3.81it/s, loss=0.0185]\n"
          ]
        },
        {
          "output_type": "stream",
          "name": "stdout",
          "text": [
            "Got 7753964/7760800 with accuracy 99.91191101074219:.2f\n",
            "Dice score 0.8398076295852661\n"
          ]
        },
        {
          "output_type": "stream",
          "name": "stderr",
          "text": [
            "100%|██████████| 50/50 [00:13<00:00,  3.82it/s, loss=0.0103]\n"
          ]
        },
        {
          "output_type": "stream",
          "name": "stdout",
          "text": [
            "Got 7753956/7760800 with accuracy 99.91181182861328:.2f\n",
            "Dice score 0.8388175368309021\n"
          ]
        },
        {
          "output_type": "stream",
          "name": "stderr",
          "text": [
            "100%|██████████| 50/50 [00:13<00:00,  3.78it/s, loss=0.0117]\n"
          ]
        },
        {
          "output_type": "stream",
          "name": "stdout",
          "text": [
            "Got 7754062/7760800 with accuracy 99.91317749023438:.2f\n",
            "Dice score 0.8413723707199097\n"
          ]
        }
      ],
      "source": [
        "train_transform = transforms.Compose(\n",
        "    [\n",
        "        transforms.ToTensor(),\n",
        "        transforms.Resize((IMAGE_HEIGHT, IMAGE_WIDTH)),\n",
        "        #A.Rotate(limit=35, p=1.0),\n",
        "        #A.HorizontalFlip(p=0.5),\n",
        "        #A.VerticalFlip(p=0.1),\n",
        "        #transforms.Normalize((0.485, 0.456, 0.406), (0.229, 0.224, 0.225)),\n",
        "        #transforms.Grayscale(),\n",
        "    ]\n",
        ")\n",
        "\n",
        "validation_transform = transforms.Compose(\n",
        "    [\n",
        "        transforms.ToTensor(),\n",
        "        transforms.Resize((IMAGE_HEIGHT, IMAGE_WIDTH)),\n",
        "    ]\n",
        ")\n",
        "\n",
        "UNET = myUNET(in_channels=3, out_channels=1).to(DEVICE) #for multiple classes change out channels to number of classes\n",
        "#loss_fn = nn.BCEWithLogitsLoss() # for multiple classes use cross entropy\n",
        "\n",
        "loss_fn = DiceLoss() #Needed to force the NN to chose another strategy than putting every pixel to white\n",
        "\n",
        "#optimizer = optim.Adam(UNET.parameters(), lr=LEARNING_RATE)\n",
        "optimizer = optim.AdamW(UNET.parameters(), lr=LEARNING_RATE)\n",
        "#optimizer = optim.SGD(UNET.parameters(), lr=LEARNING_RATE, momentum=0.9)\n",
        "#optimizer = optim.SGD(UNET.parameters(), lr=LEARNING_RATE, momentum=0.9, nesterov=True)\n",
        "\n",
        "train_loader, val_loader = get_loaders(\n",
        "    IMG_DIR_TRAIN,\n",
        "    MASK_DIR_TRAIN,\n",
        "    IMG_DIR_VAL,\n",
        "    MASK_DIR_VAL,\n",
        "    BATCH_SIZE,\n",
        "    train_transform,\n",
        "    validation_transform,\n",
        "    NUM_WORKERS,\n",
        "    PIN_MEMORY\n",
        ")\n",
        "\n",
        "scaler = torch.cuda.amp.GradScaler()\n",
        "\n",
        "old_dice = 0\n",
        "\n",
        "dice_score_list = []\n",
        "accuracies = []\n",
        "\n",
        "for epoch in range(NUM_EPOCHS):\n",
        "    #print(train_loader)\n",
        "    train(train_loader, UNET, optimizer, loss_fn, scaler)\n",
        "\n",
        "    checkpoint =  {\n",
        "        \"state_dict\": UNET.state_dict(),\n",
        "        \"optimizer\": optimizer.state_dict()\n",
        "    }\n",
        "\n",
        "    dice_score, accuracy = check_accuracy(val_loader, UNET, device=DEVICE)\n",
        "    dice_score_list.append(dice_score.cpu())\n",
        "    accuracies.append(accuracy.cpu())\n",
        "\n",
        "    if old_dice < dice_score :\n",
        "      save_checkpoint(checkpoint)\n",
        "      old_dice = dice_score\n",
        "\n",
        "      save_predictions_as_imgs(val_loader, UNET, folder=\"/content/Saved_Images\", device=DEVICE)"
      ]
    },
    {
      "cell_type": "code",
      "execution_count": 16,
      "metadata": {
        "id": "Bt3z4LqCGrBl",
        "colab": {
          "base_uri": "https://localhost:8080/",
          "height": 448
        },
        "outputId": "c8e295ee-00e7-4e90-a5b3-e0c2f8257c92"
      },
      "outputs": [
        {
          "output_type": "execute_result",
          "data": {
            "text/plain": [
              "<matplotlib.legend.Legend at 0x7ec6bd124160>"
            ]
          },
          "metadata": {},
          "execution_count": 16
        },
        {
          "output_type": "display_data",
          "data": {
            "text/plain": [
              "<Figure size 640x480 with 1 Axes>"
            ],
            "image/png": "[encoded data removed]"
          },
          "metadata": {}
        }
      ],
      "source": [
        "from matplotlib import pyplot as plt\n",
        "\n",
        "plt.plot(range(1, NUM_EPOCHS+1), dice_score_list, label='Dice Score')\n",
        "plt.plot(range(1, NUM_EPOCHS+1), accuracies, label='Accuracy')\n",
        "plt.legend()"
      ]
    },
    {
      "cell_type": "code",
      "execution_count": 17,
      "metadata": {
        "id": "BMWxNju5tXLL",
        "colab": {
          "base_uri": "https://localhost:8080/"
        },
        "outputId": "04e69698-e288-4a15-8009-6318c2e989c2"
      },
      "outputs": [
        {
          "output_type": "execute_result",
          "data": {
            "text/plain": [
              "<All keys matched successfully>"
            ]
          },
          "metadata": {},
          "execution_count": 17
        }
      ],
      "source": [
        "checkpoint = torch.load(\"/content/checkpoint.pth\")\n",
        "\n",
        "UNET.load_state_dict(checkpoint[\"state_dict\"])"
      ]
    },
    {
      "cell_type": "code",
      "execution_count": 18,
      "metadata": {
        "id": "uHjPc3IaE66I",
        "colab": {
          "base_uri": "https://localhost:8080/",
          "height": 221
        },
        "outputId": "f259d90b-cb1d-4268-992a-978201d7f60f"
      },
      "outputs": [
        {
          "output_type": "display_data",
          "data": {
            "text/plain": [
              "<Figure size 1500x1500 with 2 Axes>"
            ],
            "image/png": "[encoded data removed]"
          },
          "metadata": {}
        }
      ],
      "source": [
        "import matplotlib.pyplot as plt\n",
        "\n",
        "truth_image = Image.open('/content/Saved_Images/truth_0.jpg')\n",
        "pred_image = Image.open('/content/Saved_Images/pred_0.jpg')\n",
        "\n",
        "\n",
        "figure_size = 15\n",
        "plt.figure(figsize=(figure_size,figure_size))\n",
        "plt.subplot(1,2,1),plt.imshow(truth_image)\n",
        "plt.title('Truth Image'), plt.xticks([]), plt.yticks([])\n",
        "plt.subplot(1,2,2),plt.imshow(pred_image)\n",
        "plt.title('Prediction Image'), plt.xticks([]), plt.yticks([])\n",
        "plt.show()"
      ]
    },
    {
      "cell_type": "code",
      "execution_count": 18,
      "metadata": {
        "id": "ytQoBPi_Gua2"
      },
      "outputs": [],
      "source": []
    }
  ],
  "metadata": {
    "accelerator": "GPU",
    "colab": {
      "gpuType": "T4",
      "provenance": []
    },
    "kernelspec": {
      "display_name": "Python 3",
      "name": "python3"
    },
    "language_info": {
      "name": "python"
    }
  },
  "nbformat": 4,
  "nbformat_minor": 0
}